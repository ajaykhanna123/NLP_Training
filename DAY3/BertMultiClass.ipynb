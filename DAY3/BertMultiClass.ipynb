{
  "nbformat": 4,
  "nbformat_minor": 0,
  "metadata": {
    "accelerator": "GPU",
    "colab": {
      "name": "BertMultiClass.ipynb",
      "provenance": [],
      "collapsed_sections": []
    },
    "kernelspec": {
      "display_name": "Python 3",
      "name": "python3"
    },
    "language_info": {
      "name": "python"
    },
    "widgets": {
      "application/vnd.jupyter.widget-state+json": {
        "44fbcddc41c84a5f8c620738164f6cc4": {
          "model_module": "@jupyter-widgets/controls",
          "model_name": "HBoxModel",
          "model_module_version": "1.5.0",
          "state": {
            "_view_name": "HBoxView",
            "_dom_classes": [],
            "_model_name": "HBoxModel",
            "_view_module": "@jupyter-widgets/controls",
            "_model_module_version": "1.5.0",
            "_view_count": null,
            "_view_module_version": "1.5.0",
            "box_style": "",
            "layout": "IPY_MODEL_e700925afb01416da0e03d244874ac65",
            "_model_module": "@jupyter-widgets/controls",
            "children": [
              "IPY_MODEL_64cf1af3ee17430a96ba9b8808b1e2d4",
              "IPY_MODEL_1885cae29e074def99dab543d2a463e4",
              "IPY_MODEL_e488561577ff473c919b09d8c1c5dd66"
            ]
          }
        },
        "e700925afb01416da0e03d244874ac65": {
          "model_module": "@jupyter-widgets/base",
          "model_name": "LayoutModel",
          "model_module_version": "1.2.0",
          "state": {
            "_view_name": "LayoutView",
            "grid_template_rows": null,
            "right": null,
            "justify_content": null,
            "_view_module": "@jupyter-widgets/base",
            "overflow": null,
            "_model_module_version": "1.2.0",
            "_view_count": null,
            "flex_flow": null,
            "width": null,
            "min_width": null,
            "border": null,
            "align_items": null,
            "bottom": null,
            "_model_module": "@jupyter-widgets/base",
            "top": null,
            "grid_column": null,
            "overflow_y": null,
            "overflow_x": null,
            "grid_auto_flow": null,
            "grid_area": null,
            "grid_template_columns": null,
            "flex": null,
            "_model_name": "LayoutModel",
            "justify_items": null,
            "grid_row": null,
            "max_height": null,
            "align_content": null,
            "visibility": null,
            "align_self": null,
            "height": null,
            "min_height": null,
            "padding": null,
            "grid_auto_rows": null,
            "grid_gap": null,
            "max_width": null,
            "order": null,
            "_view_module_version": "1.2.0",
            "grid_template_areas": null,
            "object_position": null,
            "object_fit": null,
            "grid_auto_columns": null,
            "margin": null,
            "display": null,
            "left": null
          }
        },
        "64cf1af3ee17430a96ba9b8808b1e2d4": {
          "model_module": "@jupyter-widgets/controls",
          "model_name": "HTMLModel",
          "model_module_version": "1.5.0",
          "state": {
            "_view_name": "HTMLView",
            "style": "IPY_MODEL_f3667b139d654bebae02bda1be3e90d9",
            "_dom_classes": [],
            "description": "",
            "_model_name": "HTMLModel",
            "placeholder": "​",
            "_view_module": "@jupyter-widgets/controls",
            "_model_module_version": "1.5.0",
            "value": "Downloading: 100%",
            "_view_count": null,
            "_view_module_version": "1.5.0",
            "description_tooltip": null,
            "_model_module": "@jupyter-widgets/controls",
            "layout": "IPY_MODEL_75d63a014cd8441c82f6ec272ba1d2dd"
          }
        },
        "1885cae29e074def99dab543d2a463e4": {
          "model_module": "@jupyter-widgets/controls",
          "model_name": "FloatProgressModel",
          "model_module_version": "1.5.0",
          "state": {
            "_view_name": "ProgressView",
            "style": "IPY_MODEL_b951c9c15abf43b997b2e1bf8c5f0fca",
            "_dom_classes": [],
            "description": "",
            "_model_name": "FloatProgressModel",
            "bar_style": "success",
            "max": 231508,
            "_view_module": "@jupyter-widgets/controls",
            "_model_module_version": "1.5.0",
            "value": 231508,
            "_view_count": null,
            "_view_module_version": "1.5.0",
            "orientation": "horizontal",
            "min": 0,
            "description_tooltip": null,
            "_model_module": "@jupyter-widgets/controls",
            "layout": "IPY_MODEL_940a6623dd1a477cad95842fb99c89e5"
          }
        },
        "e488561577ff473c919b09d8c1c5dd66": {
          "model_module": "@jupyter-widgets/controls",
          "model_name": "HTMLModel",
          "model_module_version": "1.5.0",
          "state": {
            "_view_name": "HTMLView",
            "style": "IPY_MODEL_2f5a5277eb6c46b2be54fd9a9cb4deca",
            "_dom_classes": [],
            "description": "",
            "_model_name": "HTMLModel",
            "placeholder": "​",
            "_view_module": "@jupyter-widgets/controls",
            "_model_module_version": "1.5.0",
            "value": " 226k/226k [00:00&lt;00:00, 283kB/s]",
            "_view_count": null,
            "_view_module_version": "1.5.0",
            "description_tooltip": null,
            "_model_module": "@jupyter-widgets/controls",
            "layout": "IPY_MODEL_643e2c1c89e24f8a8a29dc4ab829f502"
          }
        },
        "f3667b139d654bebae02bda1be3e90d9": {
          "model_module": "@jupyter-widgets/controls",
          "model_name": "DescriptionStyleModel",
          "model_module_version": "1.5.0",
          "state": {
            "_view_name": "StyleView",
            "_model_name": "DescriptionStyleModel",
            "description_width": "",
            "_view_module": "@jupyter-widgets/base",
            "_model_module_version": "1.5.0",
            "_view_count": null,
            "_view_module_version": "1.2.0",
            "_model_module": "@jupyter-widgets/controls"
          }
        },
        "75d63a014cd8441c82f6ec272ba1d2dd": {
          "model_module": "@jupyter-widgets/base",
          "model_name": "LayoutModel",
          "model_module_version": "1.2.0",
          "state": {
            "_view_name": "LayoutView",
            "grid_template_rows": null,
            "right": null,
            "justify_content": null,
            "_view_module": "@jupyter-widgets/base",
            "overflow": null,
            "_model_module_version": "1.2.0",
            "_view_count": null,
            "flex_flow": null,
            "width": null,
            "min_width": null,
            "border": null,
            "align_items": null,
            "bottom": null,
            "_model_module": "@jupyter-widgets/base",
            "top": null,
            "grid_column": null,
            "overflow_y": null,
            "overflow_x": null,
            "grid_auto_flow": null,
            "grid_area": null,
            "grid_template_columns": null,
            "flex": null,
            "_model_name": "LayoutModel",
            "justify_items": null,
            "grid_row": null,
            "max_height": null,
            "align_content": null,
            "visibility": null,
            "align_self": null,
            "height": null,
            "min_height": null,
            "padding": null,
            "grid_auto_rows": null,
            "grid_gap": null,
            "max_width": null,
            "order": null,
            "_view_module_version": "1.2.0",
            "grid_template_areas": null,
            "object_position": null,
            "object_fit": null,
            "grid_auto_columns": null,
            "margin": null,
            "display": null,
            "left": null
          }
        },
        "b951c9c15abf43b997b2e1bf8c5f0fca": {
          "model_module": "@jupyter-widgets/controls",
          "model_name": "ProgressStyleModel",
          "model_module_version": "1.5.0",
          "state": {
            "_view_name": "StyleView",
            "_model_name": "ProgressStyleModel",
            "description_width": "",
            "_view_module": "@jupyter-widgets/base",
            "_model_module_version": "1.5.0",
            "_view_count": null,
            "_view_module_version": "1.2.0",
            "bar_color": null,
            "_model_module": "@jupyter-widgets/controls"
          }
        },
        "940a6623dd1a477cad95842fb99c89e5": {
          "model_module": "@jupyter-widgets/base",
          "model_name": "LayoutModel",
          "model_module_version": "1.2.0",
          "state": {
            "_view_name": "LayoutView",
            "grid_template_rows": null,
            "right": null,
            "justify_content": null,
            "_view_module": "@jupyter-widgets/base",
            "overflow": null,
            "_model_module_version": "1.2.0",
            "_view_count": null,
            "flex_flow": null,
            "width": null,
            "min_width": null,
            "border": null,
            "align_items": null,
            "bottom": null,
            "_model_module": "@jupyter-widgets/base",
            "top": null,
            "grid_column": null,
            "overflow_y": null,
            "overflow_x": null,
            "grid_auto_flow": null,
            "grid_area": null,
            "grid_template_columns": null,
            "flex": null,
            "_model_name": "LayoutModel",
            "justify_items": null,
            "grid_row": null,
            "max_height": null,
            "align_content": null,
            "visibility": null,
            "align_self": null,
            "height": null,
            "min_height": null,
            "padding": null,
            "grid_auto_rows": null,
            "grid_gap": null,
            "max_width": null,
            "order": null,
            "_view_module_version": "1.2.0",
            "grid_template_areas": null,
            "object_position": null,
            "object_fit": null,
            "grid_auto_columns": null,
            "margin": null,
            "display": null,
            "left": null
          }
        },
        "2f5a5277eb6c46b2be54fd9a9cb4deca": {
          "model_module": "@jupyter-widgets/controls",
          "model_name": "DescriptionStyleModel",
          "model_module_version": "1.5.0",
          "state": {
            "_view_name": "StyleView",
            "_model_name": "DescriptionStyleModel",
            "description_width": "",
            "_view_module": "@jupyter-widgets/base",
            "_model_module_version": "1.5.0",
            "_view_count": null,
            "_view_module_version": "1.2.0",
            "_model_module": "@jupyter-widgets/controls"
          }
        },
        "643e2c1c89e24f8a8a29dc4ab829f502": {
          "model_module": "@jupyter-widgets/base",
          "model_name": "LayoutModel",
          "model_module_version": "1.2.0",
          "state": {
            "_view_name": "LayoutView",
            "grid_template_rows": null,
            "right": null,
            "justify_content": null,
            "_view_module": "@jupyter-widgets/base",
            "overflow": null,
            "_model_module_version": "1.2.0",
            "_view_count": null,
            "flex_flow": null,
            "width": null,
            "min_width": null,
            "border": null,
            "align_items": null,
            "bottom": null,
            "_model_module": "@jupyter-widgets/base",
            "top": null,
            "grid_column": null,
            "overflow_y": null,
            "overflow_x": null,
            "grid_auto_flow": null,
            "grid_area": null,
            "grid_template_columns": null,
            "flex": null,
            "_model_name": "LayoutModel",
            "justify_items": null,
            "grid_row": null,
            "max_height": null,
            "align_content": null,
            "visibility": null,
            "align_self": null,
            "height": null,
            "min_height": null,
            "padding": null,
            "grid_auto_rows": null,
            "grid_gap": null,
            "max_width": null,
            "order": null,
            "_view_module_version": "1.2.0",
            "grid_template_areas": null,
            "object_position": null,
            "object_fit": null,
            "grid_auto_columns": null,
            "margin": null,
            "display": null,
            "left": null
          }
        },
        "d624e107d1494468a71389300407039f": {
          "model_module": "@jupyter-widgets/controls",
          "model_name": "HBoxModel",
          "model_module_version": "1.5.0",
          "state": {
            "_view_name": "HBoxView",
            "_dom_classes": [],
            "_model_name": "HBoxModel",
            "_view_module": "@jupyter-widgets/controls",
            "_model_module_version": "1.5.0",
            "_view_count": null,
            "_view_module_version": "1.5.0",
            "box_style": "",
            "layout": "IPY_MODEL_da2ced1cc04f493bb870e71a0b5c9290",
            "_model_module": "@jupyter-widgets/controls",
            "children": [
              "IPY_MODEL_8df331a6ab084473a4bc807a5b49ca0d",
              "IPY_MODEL_50e338088c3f4750b57063e2ecc46e19",
              "IPY_MODEL_e8d70140d9f44bd1b87cb08e658c57ee"
            ]
          }
        },
        "da2ced1cc04f493bb870e71a0b5c9290": {
          "model_module": "@jupyter-widgets/base",
          "model_name": "LayoutModel",
          "model_module_version": "1.2.0",
          "state": {
            "_view_name": "LayoutView",
            "grid_template_rows": null,
            "right": null,
            "justify_content": null,
            "_view_module": "@jupyter-widgets/base",
            "overflow": null,
            "_model_module_version": "1.2.0",
            "_view_count": null,
            "flex_flow": null,
            "width": null,
            "min_width": null,
            "border": null,
            "align_items": null,
            "bottom": null,
            "_model_module": "@jupyter-widgets/base",
            "top": null,
            "grid_column": null,
            "overflow_y": null,
            "overflow_x": null,
            "grid_auto_flow": null,
            "grid_area": null,
            "grid_template_columns": null,
            "flex": null,
            "_model_name": "LayoutModel",
            "justify_items": null,
            "grid_row": null,
            "max_height": null,
            "align_content": null,
            "visibility": null,
            "align_self": null,
            "height": null,
            "min_height": null,
            "padding": null,
            "grid_auto_rows": null,
            "grid_gap": null,
            "max_width": null,
            "order": null,
            "_view_module_version": "1.2.0",
            "grid_template_areas": null,
            "object_position": null,
            "object_fit": null,
            "grid_auto_columns": null,
            "margin": null,
            "display": null,
            "left": null
          }
        },
        "8df331a6ab084473a4bc807a5b49ca0d": {
          "model_module": "@jupyter-widgets/controls",
          "model_name": "HTMLModel",
          "model_module_version": "1.5.0",
          "state": {
            "_view_name": "HTMLView",
            "style": "IPY_MODEL_0c648c0c463148fc80b5a66b6d87f8fb",
            "_dom_classes": [],
            "description": "",
            "_model_name": "HTMLModel",
            "placeholder": "​",
            "_view_module": "@jupyter-widgets/controls",
            "_model_module_version": "1.5.0",
            "value": "Downloading: 100%",
            "_view_count": null,
            "_view_module_version": "1.5.0",
            "description_tooltip": null,
            "_model_module": "@jupyter-widgets/controls",
            "layout": "IPY_MODEL_d6d0dad1d5064256a909ab87257e8af6"
          }
        },
        "50e338088c3f4750b57063e2ecc46e19": {
          "model_module": "@jupyter-widgets/controls",
          "model_name": "FloatProgressModel",
          "model_module_version": "1.5.0",
          "state": {
            "_view_name": "ProgressView",
            "style": "IPY_MODEL_211d742bb408486995d05e9716168bb4",
            "_dom_classes": [],
            "description": "",
            "_model_name": "FloatProgressModel",
            "bar_style": "success",
            "max": 466062,
            "_view_module": "@jupyter-widgets/controls",
            "_model_module_version": "1.5.0",
            "value": 466062,
            "_view_count": null,
            "_view_module_version": "1.5.0",
            "orientation": "horizontal",
            "min": 0,
            "description_tooltip": null,
            "_model_module": "@jupyter-widgets/controls",
            "layout": "IPY_MODEL_d1584e4119d74847bb94f2b813c3a8ee"
          }
        },
        "e8d70140d9f44bd1b87cb08e658c57ee": {
          "model_module": "@jupyter-widgets/controls",
          "model_name": "HTMLModel",
          "model_module_version": "1.5.0",
          "state": {
            "_view_name": "HTMLView",
            "style": "IPY_MODEL_454203a6bed64f708ea83be012220828",
            "_dom_classes": [],
            "description": "",
            "_model_name": "HTMLModel",
            "placeholder": "​",
            "_view_module": "@jupyter-widgets/controls",
            "_model_module_version": "1.5.0",
            "value": " 455k/455k [00:00&lt;00:00, 480kB/s]",
            "_view_count": null,
            "_view_module_version": "1.5.0",
            "description_tooltip": null,
            "_model_module": "@jupyter-widgets/controls",
            "layout": "IPY_MODEL_64c1dbe62060444083682320d9b7bc28"
          }
        },
        "0c648c0c463148fc80b5a66b6d87f8fb": {
          "model_module": "@jupyter-widgets/controls",
          "model_name": "DescriptionStyleModel",
          "model_module_version": "1.5.0",
          "state": {
            "_view_name": "StyleView",
            "_model_name": "DescriptionStyleModel",
            "description_width": "",
            "_view_module": "@jupyter-widgets/base",
            "_model_module_version": "1.5.0",
            "_view_count": null,
            "_view_module_version": "1.2.0",
            "_model_module": "@jupyter-widgets/controls"
          }
        },
        "d6d0dad1d5064256a909ab87257e8af6": {
          "model_module": "@jupyter-widgets/base",
          "model_name": "LayoutModel",
          "model_module_version": "1.2.0",
          "state": {
            "_view_name": "LayoutView",
            "grid_template_rows": null,
            "right": null,
            "justify_content": null,
            "_view_module": "@jupyter-widgets/base",
            "overflow": null,
            "_model_module_version": "1.2.0",
            "_view_count": null,
            "flex_flow": null,
            "width": null,
            "min_width": null,
            "border": null,
            "align_items": null,
            "bottom": null,
            "_model_module": "@jupyter-widgets/base",
            "top": null,
            "grid_column": null,
            "overflow_y": null,
            "overflow_x": null,
            "grid_auto_flow": null,
            "grid_area": null,
            "grid_template_columns": null,
            "flex": null,
            "_model_name": "LayoutModel",
            "justify_items": null,
            "grid_row": null,
            "max_height": null,
            "align_content": null,
            "visibility": null,
            "align_self": null,
            "height": null,
            "min_height": null,
            "padding": null,
            "grid_auto_rows": null,
            "grid_gap": null,
            "max_width": null,
            "order": null,
            "_view_module_version": "1.2.0",
            "grid_template_areas": null,
            "object_position": null,
            "object_fit": null,
            "grid_auto_columns": null,
            "margin": null,
            "display": null,
            "left": null
          }
        },
        "211d742bb408486995d05e9716168bb4": {
          "model_module": "@jupyter-widgets/controls",
          "model_name": "ProgressStyleModel",
          "model_module_version": "1.5.0",
          "state": {
            "_view_name": "StyleView",
            "_model_name": "ProgressStyleModel",
            "description_width": "",
            "_view_module": "@jupyter-widgets/base",
            "_model_module_version": "1.5.0",
            "_view_count": null,
            "_view_module_version": "1.2.0",
            "bar_color": null,
            "_model_module": "@jupyter-widgets/controls"
          }
        },
        "d1584e4119d74847bb94f2b813c3a8ee": {
          "model_module": "@jupyter-widgets/base",
          "model_name": "LayoutModel",
          "model_module_version": "1.2.0",
          "state": {
            "_view_name": "LayoutView",
            "grid_template_rows": null,
            "right": null,
            "justify_content": null,
            "_view_module": "@jupyter-widgets/base",
            "overflow": null,
            "_model_module_version": "1.2.0",
            "_view_count": null,
            "flex_flow": null,
            "width": null,
            "min_width": null,
            "border": null,
            "align_items": null,
            "bottom": null,
            "_model_module": "@jupyter-widgets/base",
            "top": null,
            "grid_column": null,
            "overflow_y": null,
            "overflow_x": null,
            "grid_auto_flow": null,
            "grid_area": null,
            "grid_template_columns": null,
            "flex": null,
            "_model_name": "LayoutModel",
            "justify_items": null,
            "grid_row": null,
            "max_height": null,
            "align_content": null,
            "visibility": null,
            "align_self": null,
            "height": null,
            "min_height": null,
            "padding": null,
            "grid_auto_rows": null,
            "grid_gap": null,
            "max_width": null,
            "order": null,
            "_view_module_version": "1.2.0",
            "grid_template_areas": null,
            "object_position": null,
            "object_fit": null,
            "grid_auto_columns": null,
            "margin": null,
            "display": null,
            "left": null
          }
        },
        "454203a6bed64f708ea83be012220828": {
          "model_module": "@jupyter-widgets/controls",
          "model_name": "DescriptionStyleModel",
          "model_module_version": "1.5.0",
          "state": {
            "_view_name": "StyleView",
            "_model_name": "DescriptionStyleModel",
            "description_width": "",
            "_view_module": "@jupyter-widgets/base",
            "_model_module_version": "1.5.0",
            "_view_count": null,
            "_view_module_version": "1.2.0",
            "_model_module": "@jupyter-widgets/controls"
          }
        },
        "64c1dbe62060444083682320d9b7bc28": {
          "model_module": "@jupyter-widgets/base",
          "model_name": "LayoutModel",
          "model_module_version": "1.2.0",
          "state": {
            "_view_name": "LayoutView",
            "grid_template_rows": null,
            "right": null,
            "justify_content": null,
            "_view_module": "@jupyter-widgets/base",
            "overflow": null,
            "_model_module_version": "1.2.0",
            "_view_count": null,
            "flex_flow": null,
            "width": null,
            "min_width": null,
            "border": null,
            "align_items": null,
            "bottom": null,
            "_model_module": "@jupyter-widgets/base",
            "top": null,
            "grid_column": null,
            "overflow_y": null,
            "overflow_x": null,
            "grid_auto_flow": null,
            "grid_area": null,
            "grid_template_columns": null,
            "flex": null,
            "_model_name": "LayoutModel",
            "justify_items": null,
            "grid_row": null,
            "max_height": null,
            "align_content": null,
            "visibility": null,
            "align_self": null,
            "height": null,
            "min_height": null,
            "padding": null,
            "grid_auto_rows": null,
            "grid_gap": null,
            "max_width": null,
            "order": null,
            "_view_module_version": "1.2.0",
            "grid_template_areas": null,
            "object_position": null,
            "object_fit": null,
            "grid_auto_columns": null,
            "margin": null,
            "display": null,
            "left": null
          }
        },
        "e4f0af9a06ac487c829df90c9c914249": {
          "model_module": "@jupyter-widgets/controls",
          "model_name": "HBoxModel",
          "model_module_version": "1.5.0",
          "state": {
            "_view_name": "HBoxView",
            "_dom_classes": [],
            "_model_name": "HBoxModel",
            "_view_module": "@jupyter-widgets/controls",
            "_model_module_version": "1.5.0",
            "_view_count": null,
            "_view_module_version": "1.5.0",
            "box_style": "",
            "layout": "IPY_MODEL_88c389c5a0db47e2bc4fae69d2c60f83",
            "_model_module": "@jupyter-widgets/controls",
            "children": [
              "IPY_MODEL_f4500584d18f429d854abf7237a29a25",
              "IPY_MODEL_f3f068b71f7b49d2bac29a7da2d167da",
              "IPY_MODEL_24530f2d7d2d47ffa1a36169b408838c"
            ]
          }
        },
        "88c389c5a0db47e2bc4fae69d2c60f83": {
          "model_module": "@jupyter-widgets/base",
          "model_name": "LayoutModel",
          "model_module_version": "1.2.0",
          "state": {
            "_view_name": "LayoutView",
            "grid_template_rows": null,
            "right": null,
            "justify_content": null,
            "_view_module": "@jupyter-widgets/base",
            "overflow": null,
            "_model_module_version": "1.2.0",
            "_view_count": null,
            "flex_flow": null,
            "width": null,
            "min_width": null,
            "border": null,
            "align_items": null,
            "bottom": null,
            "_model_module": "@jupyter-widgets/base",
            "top": null,
            "grid_column": null,
            "overflow_y": null,
            "overflow_x": null,
            "grid_auto_flow": null,
            "grid_area": null,
            "grid_template_columns": null,
            "flex": null,
            "_model_name": "LayoutModel",
            "justify_items": null,
            "grid_row": null,
            "max_height": null,
            "align_content": null,
            "visibility": null,
            "align_self": null,
            "height": null,
            "min_height": null,
            "padding": null,
            "grid_auto_rows": null,
            "grid_gap": null,
            "max_width": null,
            "order": null,
            "_view_module_version": "1.2.0",
            "grid_template_areas": null,
            "object_position": null,
            "object_fit": null,
            "grid_auto_columns": null,
            "margin": null,
            "display": null,
            "left": null
          }
        },
        "f4500584d18f429d854abf7237a29a25": {
          "model_module": "@jupyter-widgets/controls",
          "model_name": "HTMLModel",
          "model_module_version": "1.5.0",
          "state": {
            "_view_name": "HTMLView",
            "style": "IPY_MODEL_7149450872744b308efde663b62348f2",
            "_dom_classes": [],
            "description": "",
            "_model_name": "HTMLModel",
            "placeholder": "​",
            "_view_module": "@jupyter-widgets/controls",
            "_model_module_version": "1.5.0",
            "value": "Downloading: 100%",
            "_view_count": null,
            "_view_module_version": "1.5.0",
            "description_tooltip": null,
            "_model_module": "@jupyter-widgets/controls",
            "layout": "IPY_MODEL_76b6a6df71764a77b182287a211d18a7"
          }
        },
        "f3f068b71f7b49d2bac29a7da2d167da": {
          "model_module": "@jupyter-widgets/controls",
          "model_name": "FloatProgressModel",
          "model_module_version": "1.5.0",
          "state": {
            "_view_name": "ProgressView",
            "style": "IPY_MODEL_fc7f5693ce0b491bb73156ef700954d9",
            "_dom_classes": [],
            "description": "",
            "_model_name": "FloatProgressModel",
            "bar_style": "success",
            "max": 28,
            "_view_module": "@jupyter-widgets/controls",
            "_model_module_version": "1.5.0",
            "value": 28,
            "_view_count": null,
            "_view_module_version": "1.5.0",
            "orientation": "horizontal",
            "min": 0,
            "description_tooltip": null,
            "_model_module": "@jupyter-widgets/controls",
            "layout": "IPY_MODEL_0c85ff09e96947e981c93b04c9da2ecf"
          }
        },
        "24530f2d7d2d47ffa1a36169b408838c": {
          "model_module": "@jupyter-widgets/controls",
          "model_name": "HTMLModel",
          "model_module_version": "1.5.0",
          "state": {
            "_view_name": "HTMLView",
            "style": "IPY_MODEL_ceb27a5d40464d81a7fc779cf52822cd",
            "_dom_classes": [],
            "description": "",
            "_model_name": "HTMLModel",
            "placeholder": "​",
            "_view_module": "@jupyter-widgets/controls",
            "_model_module_version": "1.5.0",
            "value": " 28.0/28.0 [00:00&lt;00:00, 569B/s]",
            "_view_count": null,
            "_view_module_version": "1.5.0",
            "description_tooltip": null,
            "_model_module": "@jupyter-widgets/controls",
            "layout": "IPY_MODEL_85802ee5a2bd457899af77507f1ab3e5"
          }
        },
        "7149450872744b308efde663b62348f2": {
          "model_module": "@jupyter-widgets/controls",
          "model_name": "DescriptionStyleModel",
          "model_module_version": "1.5.0",
          "state": {
            "_view_name": "StyleView",
            "_model_name": "DescriptionStyleModel",
            "description_width": "",
            "_view_module": "@jupyter-widgets/base",
            "_model_module_version": "1.5.0",
            "_view_count": null,
            "_view_module_version": "1.2.0",
            "_model_module": "@jupyter-widgets/controls"
          }
        },
        "76b6a6df71764a77b182287a211d18a7": {
          "model_module": "@jupyter-widgets/base",
          "model_name": "LayoutModel",
          "model_module_version": "1.2.0",
          "state": {
            "_view_name": "LayoutView",
            "grid_template_rows": null,
            "right": null,
            "justify_content": null,
            "_view_module": "@jupyter-widgets/base",
            "overflow": null,
            "_model_module_version": "1.2.0",
            "_view_count": null,
            "flex_flow": null,
            "width": null,
            "min_width": null,
            "border": null,
            "align_items": null,
            "bottom": null,
            "_model_module": "@jupyter-widgets/base",
            "top": null,
            "grid_column": null,
            "overflow_y": null,
            "overflow_x": null,
            "grid_auto_flow": null,
            "grid_area": null,
            "grid_template_columns": null,
            "flex": null,
            "_model_name": "LayoutModel",
            "justify_items": null,
            "grid_row": null,
            "max_height": null,
            "align_content": null,
            "visibility": null,
            "align_self": null,
            "height": null,
            "min_height": null,
            "padding": null,
            "grid_auto_rows": null,
            "grid_gap": null,
            "max_width": null,
            "order": null,
            "_view_module_version": "1.2.0",
            "grid_template_areas": null,
            "object_position": null,
            "object_fit": null,
            "grid_auto_columns": null,
            "margin": null,
            "display": null,
            "left": null
          }
        },
        "fc7f5693ce0b491bb73156ef700954d9": {
          "model_module": "@jupyter-widgets/controls",
          "model_name": "ProgressStyleModel",
          "model_module_version": "1.5.0",
          "state": {
            "_view_name": "StyleView",
            "_model_name": "ProgressStyleModel",
            "description_width": "",
            "_view_module": "@jupyter-widgets/base",
            "_model_module_version": "1.5.0",
            "_view_count": null,
            "_view_module_version": "1.2.0",
            "bar_color": null,
            "_model_module": "@jupyter-widgets/controls"
          }
        },
        "0c85ff09e96947e981c93b04c9da2ecf": {
          "model_module": "@jupyter-widgets/base",
          "model_name": "LayoutModel",
          "model_module_version": "1.2.0",
          "state": {
            "_view_name": "LayoutView",
            "grid_template_rows": null,
            "right": null,
            "justify_content": null,
            "_view_module": "@jupyter-widgets/base",
            "overflow": null,
            "_model_module_version": "1.2.0",
            "_view_count": null,
            "flex_flow": null,
            "width": null,
            "min_width": null,
            "border": null,
            "align_items": null,
            "bottom": null,
            "_model_module": "@jupyter-widgets/base",
            "top": null,
            "grid_column": null,
            "overflow_y": null,
            "overflow_x": null,
            "grid_auto_flow": null,
            "grid_area": null,
            "grid_template_columns": null,
            "flex": null,
            "_model_name": "LayoutModel",
            "justify_items": null,
            "grid_row": null,
            "max_height": null,
            "align_content": null,
            "visibility": null,
            "align_self": null,
            "height": null,
            "min_height": null,
            "padding": null,
            "grid_auto_rows": null,
            "grid_gap": null,
            "max_width": null,
            "order": null,
            "_view_module_version": "1.2.0",
            "grid_template_areas": null,
            "object_position": null,
            "object_fit": null,
            "grid_auto_columns": null,
            "margin": null,
            "display": null,
            "left": null
          }
        },
        "ceb27a5d40464d81a7fc779cf52822cd": {
          "model_module": "@jupyter-widgets/controls",
          "model_name": "DescriptionStyleModel",
          "model_module_version": "1.5.0",
          "state": {
            "_view_name": "StyleView",
            "_model_name": "DescriptionStyleModel",
            "description_width": "",
            "_view_module": "@jupyter-widgets/base",
            "_model_module_version": "1.5.0",
            "_view_count": null,
            "_view_module_version": "1.2.0",
            "_model_module": "@jupyter-widgets/controls"
          }
        },
        "85802ee5a2bd457899af77507f1ab3e5": {
          "model_module": "@jupyter-widgets/base",
          "model_name": "LayoutModel",
          "model_module_version": "1.2.0",
          "state": {
            "_view_name": "LayoutView",
            "grid_template_rows": null,
            "right": null,
            "justify_content": null,
            "_view_module": "@jupyter-widgets/base",
            "overflow": null,
            "_model_module_version": "1.2.0",
            "_view_count": null,
            "flex_flow": null,
            "width": null,
            "min_width": null,
            "border": null,
            "align_items": null,
            "bottom": null,
            "_model_module": "@jupyter-widgets/base",
            "top": null,
            "grid_column": null,
            "overflow_y": null,
            "overflow_x": null,
            "grid_auto_flow": null,
            "grid_area": null,
            "grid_template_columns": null,
            "flex": null,
            "_model_name": "LayoutModel",
            "justify_items": null,
            "grid_row": null,
            "max_height": null,
            "align_content": null,
            "visibility": null,
            "align_self": null,
            "height": null,
            "min_height": null,
            "padding": null,
            "grid_auto_rows": null,
            "grid_gap": null,
            "max_width": null,
            "order": null,
            "_view_module_version": "1.2.0",
            "grid_template_areas": null,
            "object_position": null,
            "object_fit": null,
            "grid_auto_columns": null,
            "margin": null,
            "display": null,
            "left": null
          }
        }
      }
    }
  },
  "cells": [
    {
      "cell_type": "markdown",
      "metadata": {
        "id": "rCK07gaMIKNm"
      },
      "source": [
        "# Import all libraries required"
      ]
    },
    {
      "cell_type": "code",
      "metadata": {
        "colab": {
          "base_uri": "https://localhost:8080/"
        },
        "id": "4l4VlILPCKqg",
        "outputId": "1547a608-11ae-44cd-c117-2e268ff55166"
      },
      "source": [
        "import pandas as pd\n",
        "import numpy as np\n",
        "%reload_ext autoreload\n",
        "%autoreload 2\n",
        "%matplotlib inline\n",
        "import os\n",
        "os.environ[\"CUDA_DEVICE_ORDER\"]=\"PCI_BUS_ID\";\n",
        "os.environ[\"CUDA_VISIBLE_DEVICES\"]=\"0\";\n",
        "from ktrain import text\n",
        "import ktrain\n",
        "import nltk\n",
        "nltk.download('stopwords')\n",
        "nltk.download('averaged_perceptron_tagger')\n",
        "nltk.download('wordnet')\n",
        "from sklearn.metrics import confusion_matrix,classification_report\n",
        "import nltk\n",
        "nltk.download('punkt')\n",
        "from nltk import word_tokenize\n",
        "from nltk.corpus import stopwords\n",
        "import string\n",
        "\n",
        "nltk.download('punkt')\n",
        "from nltk import word_tokenize\n",
        "from nltk import pos_tag\n",
        "from nltk.corpus import wordnet\n",
        "from nltk.stem import WordNetLemmatizer\n",
        "import re"
      ],
      "execution_count": null,
      "outputs": [
        {
          "output_type": "stream",
          "name": "stdout",
          "text": [
            "[nltk_data] Downloading package stopwords to /root/nltk_data...\n",
            "[nltk_data]   Unzipping corpora/stopwords.zip.\n",
            "[nltk_data] Downloading package averaged_perceptron_tagger to\n",
            "[nltk_data]     /root/nltk_data...\n",
            "[nltk_data]   Unzipping taggers/averaged_perceptron_tagger.zip.\n",
            "[nltk_data] Downloading package wordnet to /root/nltk_data...\n",
            "[nltk_data]   Unzipping corpora/wordnet.zip.\n",
            "[nltk_data] Downloading package punkt to /root/nltk_data...\n",
            "[nltk_data]   Unzipping tokenizers/punkt.zip.\n",
            "[nltk_data] Downloading package punkt to /root/nltk_data...\n",
            "[nltk_data]   Package punkt is already up-to-date!\n"
          ]
        }
      ]
    },
    {
      "cell_type": "code",
      "source": [
        ""
      ],
      "metadata": {
        "id": "b7NVTQTy_xu9"
      },
      "execution_count": null,
      "outputs": []
    },
    {
      "cell_type": "code",
      "metadata": {
        "id": "Liy__7KO6KB3",
        "colab": {
          "base_uri": "https://localhost:8080/"
        },
        "outputId": "205a8f7b-229d-4503-dd33-33b0731caf5d"
      },
      "source": [
        "# pip install ktrain==0.23.2"
      ],
      "execution_count": null,
      "outputs": [
        {
          "output_type": "stream",
          "name": "stdout",
          "text": [
            "Collecting ktrain==0.23.2\n",
            "  Downloading ktrain-0.23.2.tar.gz (25.3 MB)\n",
            "\u001b[K     |████████████████████████████████| 25.3 MB 126 kB/s \n",
            "\u001b[?25hRequirement already satisfied: scikit-learn>=0.21.3 in /usr/local/lib/python3.7/dist-packages (from ktrain==0.23.2) (0.22.2.post1)\n",
            "Requirement already satisfied: matplotlib>=3.0.0 in /usr/local/lib/python3.7/dist-packages (from ktrain==0.23.2) (3.2.2)\n",
            "Requirement already satisfied: pandas>=1.0.1 in /usr/local/lib/python3.7/dist-packages (from ktrain==0.23.2) (1.1.5)\n",
            "Requirement already satisfied: fastprogress>=0.1.21 in /usr/local/lib/python3.7/dist-packages (from ktrain==0.23.2) (1.0.0)\n",
            "Collecting keras_bert>=0.86.0\n",
            "  Downloading keras-bert-0.88.0.tar.gz (26 kB)\n",
            "Requirement already satisfied: requests in /usr/local/lib/python3.7/dist-packages (from ktrain==0.23.2) (2.23.0)\n",
            "Requirement already satisfied: joblib in /usr/local/lib/python3.7/dist-packages (from ktrain==0.23.2) (1.0.1)\n",
            "Collecting langdetect\n",
            "  Downloading langdetect-1.0.9.tar.gz (981 kB)\n",
            "\u001b[K     |████████████████████████████████| 981 kB 35.8 MB/s \n",
            "\u001b[?25hRequirement already satisfied: jieba in /usr/local/lib/python3.7/dist-packages (from ktrain==0.23.2) (0.42.1)\n",
            "Collecting cchardet\n",
            "  Downloading cchardet-2.1.7-cp37-cp37m-manylinux2010_x86_64.whl (263 kB)\n",
            "\u001b[K     |████████████████████████████████| 263 kB 47.8 MB/s \n",
            "\u001b[?25hRequirement already satisfied: networkx>=2.3 in /usr/local/lib/python3.7/dist-packages (from ktrain==0.23.2) (2.6.3)\n",
            "Requirement already satisfied: bokeh in /usr/local/lib/python3.7/dist-packages (from ktrain==0.23.2) (2.3.3)\n",
            "Collecting seqeval==0.0.19\n",
            "  Downloading seqeval-0.0.19.tar.gz (30 kB)\n",
            "Requirement already satisfied: packaging in /usr/local/lib/python3.7/dist-packages (from ktrain==0.23.2) (21.0)\n",
            "Collecting transformers>=3.1.0\n",
            "  Downloading transformers-4.11.3-py3-none-any.whl (2.9 MB)\n",
            "\u001b[K     |████████████████████████████████| 2.9 MB 37.5 MB/s \n",
            "\u001b[?25hRequirement already satisfied: ipython in /usr/local/lib/python3.7/dist-packages (from ktrain==0.23.2) (5.5.0)\n",
            "Collecting syntok\n",
            "  Downloading syntok-1.3.1.tar.gz (23 kB)\n",
            "Collecting whoosh\n",
            "  Downloading Whoosh-2.7.4-py2.py3-none-any.whl (468 kB)\n",
            "\u001b[K     |████████████████████████████████| 468 kB 47.2 MB/s \n",
            "\u001b[?25hRequirement already satisfied: numpy>=1.14.0 in /usr/local/lib/python3.7/dist-packages (from seqeval==0.0.19->ktrain==0.23.2) (1.19.5)\n",
            "Requirement already satisfied: Keras>=2.2.4 in /usr/local/lib/python3.7/dist-packages (from seqeval==0.0.19->ktrain==0.23.2) (2.6.0)\n",
            "Collecting keras-transformer>=0.39.0\n",
            "  Downloading keras-transformer-0.39.0.tar.gz (11 kB)\n",
            "Collecting keras-pos-embd>=0.12.0\n",
            "  Downloading keras-pos-embd-0.12.0.tar.gz (6.0 kB)\n",
            "Collecting keras-multi-head>=0.28.0\n",
            "  Downloading keras-multi-head-0.28.0.tar.gz (14 kB)\n",
            "Collecting keras-layer-normalization>=0.15.0\n",
            "  Downloading keras-layer-normalization-0.15.0.tar.gz (4.2 kB)\n",
            "Collecting keras-position-wise-feed-forward>=0.7.0\n",
            "  Downloading keras-position-wise-feed-forward-0.7.0.tar.gz (4.5 kB)\n",
            "Collecting keras-embed-sim>=0.9.0\n",
            "  Downloading keras-embed-sim-0.9.0.tar.gz (4.1 kB)\n",
            "Collecting keras-self-attention>=0.50.0\n",
            "  Downloading keras-self-attention-0.50.0.tar.gz (12 kB)\n",
            "Requirement already satisfied: kiwisolver>=1.0.1 in /usr/local/lib/python3.7/dist-packages (from matplotlib>=3.0.0->ktrain==0.23.2) (1.3.2)\n",
            "Requirement already satisfied: pyparsing!=2.0.4,!=2.1.2,!=2.1.6,>=2.0.1 in /usr/local/lib/python3.7/dist-packages (from matplotlib>=3.0.0->ktrain==0.23.2) (2.4.7)\n",
            "Requirement already satisfied: cycler>=0.10 in /usr/local/lib/python3.7/dist-packages (from matplotlib>=3.0.0->ktrain==0.23.2) (0.10.0)\n",
            "Requirement already satisfied: python-dateutil>=2.1 in /usr/local/lib/python3.7/dist-packages (from matplotlib>=3.0.0->ktrain==0.23.2) (2.8.2)\n",
            "Requirement already satisfied: six in /usr/local/lib/python3.7/dist-packages (from cycler>=0.10->matplotlib>=3.0.0->ktrain==0.23.2) (1.15.0)\n",
            "Requirement already satisfied: pytz>=2017.2 in /usr/local/lib/python3.7/dist-packages (from pandas>=1.0.1->ktrain==0.23.2) (2018.9)\n",
            "Requirement already satisfied: scipy>=0.17.0 in /usr/local/lib/python3.7/dist-packages (from scikit-learn>=0.21.3->ktrain==0.23.2) (1.4.1)\n",
            "Requirement already satisfied: regex!=2019.12.17 in /usr/local/lib/python3.7/dist-packages (from transformers>=3.1.0->ktrain==0.23.2) (2019.12.20)\n",
            "Requirement already satisfied: filelock in /usr/local/lib/python3.7/dist-packages (from transformers>=3.1.0->ktrain==0.23.2) (3.3.0)\n",
            "Collecting sacremoses\n",
            "  Downloading sacremoses-0.0.46-py3-none-any.whl (895 kB)\n",
            "\u001b[K     |████████████████████████████████| 895 kB 41.0 MB/s \n",
            "\u001b[?25hRequirement already satisfied: tqdm>=4.27 in /usr/local/lib/python3.7/dist-packages (from transformers>=3.1.0->ktrain==0.23.2) (4.62.3)\n",
            "Requirement already satisfied: importlib-metadata in /usr/local/lib/python3.7/dist-packages (from transformers>=3.1.0->ktrain==0.23.2) (4.8.1)\n",
            "Collecting tokenizers<0.11,>=0.10.1\n",
            "  Downloading tokenizers-0.10.3-cp37-cp37m-manylinux_2_5_x86_64.manylinux1_x86_64.manylinux_2_12_x86_64.manylinux2010_x86_64.whl (3.3 MB)\n",
            "\u001b[K     |████████████████████████████████| 3.3 MB 33.7 MB/s \n",
            "\u001b[?25hCollecting huggingface-hub>=0.0.17\n",
            "  Downloading huggingface_hub-0.0.19-py3-none-any.whl (56 kB)\n",
            "\u001b[K     |████████████████████████████████| 56 kB 4.8 MB/s \n",
            "\u001b[?25hCollecting pyyaml>=5.1\n",
            "  Downloading PyYAML-6.0-cp37-cp37m-manylinux_2_5_x86_64.manylinux1_x86_64.manylinux_2_12_x86_64.manylinux2010_x86_64.whl (596 kB)\n",
            "\u001b[K     |████████████████████████████████| 596 kB 48.4 MB/s \n",
            "\u001b[?25hRequirement already satisfied: typing-extensions in /usr/local/lib/python3.7/dist-packages (from huggingface-hub>=0.0.17->transformers>=3.1.0->ktrain==0.23.2) (3.7.4.3)\n",
            "Requirement already satisfied: tornado>=5.1 in /usr/local/lib/python3.7/dist-packages (from bokeh->ktrain==0.23.2) (5.1.1)\n",
            "Requirement already satisfied: pillow>=7.1.0 in /usr/local/lib/python3.7/dist-packages (from bokeh->ktrain==0.23.2) (7.1.2)\n",
            "Requirement already satisfied: Jinja2>=2.9 in /usr/local/lib/python3.7/dist-packages (from bokeh->ktrain==0.23.2) (2.11.3)\n",
            "Requirement already satisfied: MarkupSafe>=0.23 in /usr/local/lib/python3.7/dist-packages (from Jinja2>=2.9->bokeh->ktrain==0.23.2) (2.0.1)\n",
            "Requirement already satisfied: zipp>=0.5 in /usr/local/lib/python3.7/dist-packages (from importlib-metadata->transformers>=3.1.0->ktrain==0.23.2) (3.6.0)\n",
            "Requirement already satisfied: pickleshare in /usr/local/lib/python3.7/dist-packages (from ipython->ktrain==0.23.2) (0.7.5)\n",
            "Requirement already satisfied: pygments in /usr/local/lib/python3.7/dist-packages (from ipython->ktrain==0.23.2) (2.6.1)\n",
            "Requirement already satisfied: simplegeneric>0.8 in /usr/local/lib/python3.7/dist-packages (from ipython->ktrain==0.23.2) (0.8.1)\n",
            "Requirement already satisfied: pexpect in /usr/local/lib/python3.7/dist-packages (from ipython->ktrain==0.23.2) (4.8.0)\n",
            "Requirement already satisfied: prompt-toolkit<2.0.0,>=1.0.4 in /usr/local/lib/python3.7/dist-packages (from ipython->ktrain==0.23.2) (1.0.18)\n",
            "Requirement already satisfied: traitlets>=4.2 in /usr/local/lib/python3.7/dist-packages (from ipython->ktrain==0.23.2) (5.1.0)\n",
            "Requirement already satisfied: decorator in /usr/local/lib/python3.7/dist-packages (from ipython->ktrain==0.23.2) (4.4.2)\n",
            "Requirement already satisfied: setuptools>=18.5 in /usr/local/lib/python3.7/dist-packages (from ipython->ktrain==0.23.2) (57.4.0)\n",
            "Requirement already satisfied: wcwidth in /usr/local/lib/python3.7/dist-packages (from prompt-toolkit<2.0.0,>=1.0.4->ipython->ktrain==0.23.2) (0.2.5)\n",
            "Requirement already satisfied: ptyprocess>=0.5 in /usr/local/lib/python3.7/dist-packages (from pexpect->ipython->ktrain==0.23.2) (0.7.0)\n",
            "Requirement already satisfied: chardet<4,>=3.0.2 in /usr/local/lib/python3.7/dist-packages (from requests->ktrain==0.23.2) (3.0.4)\n",
            "Requirement already satisfied: certifi>=2017.4.17 in /usr/local/lib/python3.7/dist-packages (from requests->ktrain==0.23.2) (2021.5.30)\n",
            "Requirement already satisfied: urllib3!=1.25.0,!=1.25.1,<1.26,>=1.21.1 in /usr/local/lib/python3.7/dist-packages (from requests->ktrain==0.23.2) (1.24.3)\n",
            "Requirement already satisfied: idna<3,>=2.5 in /usr/local/lib/python3.7/dist-packages (from requests->ktrain==0.23.2) (2.10)\n",
            "Requirement already satisfied: click in /usr/local/lib/python3.7/dist-packages (from sacremoses->transformers>=3.1.0->ktrain==0.23.2) (7.1.2)\n",
            "Building wheels for collected packages: ktrain, seqeval, keras-bert, keras-transformer, keras-embed-sim, keras-layer-normalization, keras-multi-head, keras-pos-embd, keras-position-wise-feed-forward, keras-self-attention, langdetect, syntok\n",
            "  Building wheel for ktrain (setup.py) ... \u001b[?25l\u001b[?25hdone\n",
            "  Created wheel for ktrain: filename=ktrain-0.23.2-py3-none-any.whl size=25272008 sha256=0149c721c05053bd43ba7e5ea028e0699ab3591aca5910434542e78cd3702a6e\n",
            "  Stored in directory: /root/.cache/pip/wheels/e1/d8/48/9419651718d3f35a811a3ab0ba49aabf66e4cb84e6c1170f2c\n",
            "  Building wheel for seqeval (setup.py) ... \u001b[?25l\u001b[?25hdone\n",
            "  Created wheel for seqeval: filename=seqeval-0.0.19-py3-none-any.whl size=9929 sha256=421bc91c4b66a2e10e3d697637e46d0d330879bb0103dfce0a30dfa276db8f77\n",
            "  Stored in directory: /root/.cache/pip/wheels/f5/ac/f1/4e13d7aff05c722d142b7d20a88ad63f9aab11b895411241a4\n",
            "  Building wheel for keras-bert (setup.py) ... \u001b[?25l\u001b[?25hdone\n",
            "  Created wheel for keras-bert: filename=keras_bert-0.88.0-py3-none-any.whl size=34204 sha256=ccf6a0d30c7a374b7bf64df22f0bfcd0defc8c17012db05b2abe9550241b5019\n",
            "  Stored in directory: /root/.cache/pip/wheels/a2/90/cd/c038f2366929a3a5e3414a303b673e10235e802d871d29a835\n",
            "  Building wheel for keras-transformer (setup.py) ... \u001b[?25l\u001b[?25hdone\n",
            "  Created wheel for keras-transformer: filename=keras_transformer-0.39.0-py3-none-any.whl size=12842 sha256=e9b19567f39d67991215391da017b12b39404392f28864cc23f387f81a65c46a\n",
            "  Stored in directory: /root/.cache/pip/wheels/bc/01/e0/5a1a14bed6726f2ed73f7917d2d2c2d4081d2c88426dea07ce\n",
            "  Building wheel for keras-embed-sim (setup.py) ... \u001b[?25l\u001b[?25hdone\n",
            "  Created wheel for keras-embed-sim: filename=keras_embed_sim-0.9.0-py3-none-any.whl size=4504 sha256=4cd7e238ffcb1816296812ff65bba560583e6df0750280e62d07e757b5e7cf76\n",
            "  Stored in directory: /root/.cache/pip/wheels/a8/1e/d2/9bc15513dd2f8b9de3e628b3aa9d2de49e721deef6bbd1497e\n",
            "  Building wheel for keras-layer-normalization (setup.py) ... \u001b[?25l\u001b[?25hdone\n",
            "  Created wheel for keras-layer-normalization: filename=keras_layer_normalization-0.15.0-py3-none-any.whl size=5224 sha256=09ecd478d7b06441a847985bb6e6ff94169e031866ba8757a32cd9fab20f62cb\n",
            "  Stored in directory: /root/.cache/pip/wheels/4d/be/fe/55422f77ac11fe6ddcb471198038de8a26b5a4dd1557883c1e\n",
            "  Building wheel for keras-multi-head (setup.py) ... \u001b[?25l\u001b[?25hdone\n",
            "  Created wheel for keras-multi-head: filename=keras_multi_head-0.28.0-py3-none-any.whl size=15559 sha256=0f8eed28c8150550d64cc9b8044e7c6f59ce14be8ff29a139a384555add5eb41\n",
            "  Stored in directory: /root/.cache/pip/wheels/79/4a/ea/9503ab5a02201dfb8635ba2cc8f30844661623c684a5b44472\n",
            "  Building wheel for keras-pos-embd (setup.py) ... \u001b[?25l\u001b[?25hdone\n",
            "  Created wheel for keras-pos-embd: filename=keras_pos_embd-0.12.0-py3-none-any.whl size=7469 sha256=b9ed34073e3a0b0d77937ebc4616cf5d68b266966b52f9ab8188b02367237821\n",
            "  Stored in directory: /root/.cache/pip/wheels/77/99/fd/dd98f4876c3ebbef7aab0dbfbd37bca41d7db37d3a28b2cb09\n",
            "  Building wheel for keras-position-wise-feed-forward (setup.py) ... \u001b[?25l\u001b[?25hdone\n",
            "  Created wheel for keras-position-wise-feed-forward: filename=keras_position_wise_feed_forward-0.7.0-py3-none-any.whl size=5541 sha256=f6f541003cbb0585f04ecbf20680724793344dc898572a31956d4c0f0c2888c8\n",
            "  Stored in directory: /root/.cache/pip/wheels/2d/12/02/1ad455c4f181cda1a4e60c5445855853d5c2ea91f942586a04\n",
            "  Building wheel for keras-self-attention (setup.py) ... \u001b[?25l\u001b[?25hdone\n",
            "  Created wheel for keras-self-attention: filename=keras_self_attention-0.50.0-py3-none-any.whl size=19414 sha256=4d7d6f248dc37bf60453c862d5fd79d865963fc3d328e3641bec71a28d228c46\n",
            "  Stored in directory: /root/.cache/pip/wheels/92/7a/a3/231bef5803298e7ec1815215bc0613239cb1e9c03c57b13c14\n",
            "  Building wheel for langdetect (setup.py) ... \u001b[?25l\u001b[?25hdone\n",
            "  Created wheel for langdetect: filename=langdetect-1.0.9-py3-none-any.whl size=993242 sha256=16eac62ea7c4363116536e42945c5735ddaf2abec29531ffa7c6593b5ea3eff3\n",
            "  Stored in directory: /root/.cache/pip/wheels/c5/96/8a/f90c59ed25d75e50a8c10a1b1c2d4c402e4dacfa87f3aff36a\n",
            "  Building wheel for syntok (setup.py) ... \u001b[?25l\u001b[?25hdone\n",
            "  Created wheel for syntok: filename=syntok-1.3.1-py3-none-any.whl size=20917 sha256=66ad9e5d580bd54726a089c1d43b2b17dc75ad13c47ea01c854807d24d34c2ad\n",
            "  Stored in directory: /root/.cache/pip/wheels/5e/c2/33/e5d7d8f2f8b0c391d76bf82b844c3151bf23a84d75d02b185f\n",
            "Successfully built ktrain seqeval keras-bert keras-transformer keras-embed-sim keras-layer-normalization keras-multi-head keras-pos-embd keras-position-wise-feed-forward keras-self-attention langdetect syntok\n",
            "Installing collected packages: keras-self-attention, pyyaml, keras-position-wise-feed-forward, keras-pos-embd, keras-multi-head, keras-layer-normalization, keras-embed-sim, tokenizers, sacremoses, keras-transformer, huggingface-hub, whoosh, transformers, syntok, seqeval, langdetect, keras-bert, cchardet, ktrain\n",
            "  Attempting uninstall: pyyaml\n",
            "    Found existing installation: PyYAML 3.13\n",
            "    Uninstalling PyYAML-3.13:\n",
            "      Successfully uninstalled PyYAML-3.13\n",
            "Successfully installed cchardet-2.1.7 huggingface-hub-0.0.19 keras-bert-0.88.0 keras-embed-sim-0.9.0 keras-layer-normalization-0.15.0 keras-multi-head-0.28.0 keras-pos-embd-0.12.0 keras-position-wise-feed-forward-0.7.0 keras-self-attention-0.50.0 keras-transformer-0.39.0 ktrain-0.23.2 langdetect-1.0.9 pyyaml-6.0 sacremoses-0.0.46 seqeval-0.0.19 syntok-1.3.1 tokenizers-0.10.3 transformers-4.11.3 whoosh-2.7.4\n"
          ]
        }
      ]
    },
    {
      "cell_type": "code",
      "metadata": {
        "id": "WXQ6sdX-Doyl"
      },
      "source": [
        "df=pd.read_excel('bert_sample.xlsx')\n",
        "#reading file and making a dataframe"
      ],
      "execution_count": null,
      "outputs": []
    },
    {
      "cell_type": "code",
      "metadata": {
        "colab": {
          "base_uri": "https://localhost:8080/",
          "height": 204
        },
        "id": "2IQIHFADDtt0",
        "outputId": "84c7364c-e2fa-4cb1-dd17-d2d4f88fe35f"
      },
      "source": [
        "df.head()"
      ],
      "execution_count": null,
      "outputs": [
        {
          "output_type": "execute_result",
          "data": {
            "text/html": [
              "<div>\n",
              "<style scoped>\n",
              "    .dataframe tbody tr th:only-of-type {\n",
              "        vertical-align: middle;\n",
              "    }\n",
              "\n",
              "    .dataframe tbody tr th {\n",
              "        vertical-align: top;\n",
              "    }\n",
              "\n",
              "    .dataframe thead th {\n",
              "        text-align: right;\n",
              "    }\n",
              "</style>\n",
              "<table border=\"1\" class=\"dataframe\">\n",
              "  <thead>\n",
              "    <tr style=\"text-align: right;\">\n",
              "      <th></th>\n",
              "      <th>ITEM_NAME</th>\n",
              "      <th>CATEGORY_ID</th>\n",
              "    </tr>\n",
              "  </thead>\n",
              "  <tbody>\n",
              "    <tr>\n",
              "      <th>0</th>\n",
              "      <td>CALIBRACION TRANSDUCER 75 nm</td>\n",
              "      <td>CAPITAL ASSEMBLY</td>\n",
              "    </tr>\n",
              "    <tr>\n",
              "      <th>1</th>\n",
              "      <td>for pusher whskey</td>\n",
              "      <td>CAPITAL ASSEMBLY</td>\n",
              "    </tr>\n",
              "    <tr>\n",
              "      <th>2</th>\n",
              "      <td>Stat 40B Press Head Cup to Carrier from Stati...</td>\n",
              "      <td>CAPITAL ASSEMBLY</td>\n",
              "    </tr>\n",
              "    <tr>\n",
              "      <th>3</th>\n",
              "      <td>TRANSD. Cable (4145097103) scrw</td>\n",
              "      <td>CAPITAL ASSEMBLY</td>\n",
              "    </tr>\n",
              "    <tr>\n",
              "      <th>4</th>\n",
              "      <td>ZT200 7,5BAR,13BAR60HZ NUMERO DE SERIE: AIF09...</td>\n",
              "      <td>CAPITAL ASSEMBLY</td>\n",
              "    </tr>\n",
              "  </tbody>\n",
              "</table>\n",
              "</div>"
            ],
            "text/plain": [
              "                                           ITEM_NAME       CATEGORY_ID\n",
              "0                       CALIBRACION TRANSDUCER 75 nm  CAPITAL ASSEMBLY\n",
              "1                                  for pusher whskey  CAPITAL ASSEMBLY\n",
              "2   Stat 40B Press Head Cup to Carrier from Stati...  CAPITAL ASSEMBLY\n",
              "3                    TRANSD. Cable (4145097103) scrw  CAPITAL ASSEMBLY\n",
              "4   ZT200 7,5BAR,13BAR60HZ NUMERO DE SERIE: AIF09...  CAPITAL ASSEMBLY"
            ]
          },
          "metadata": {},
          "execution_count": 6
        }
      ]
    },
    {
      "cell_type": "code",
      "metadata": {
        "id": "JcbsNunkManB"
      },
      "source": [
        "possible_labels = df.CATEGORY_ID.unique()\n",
        "\n",
        "label_dict = {}\n",
        "for index, possible_label in enumerate(possible_labels):\n",
        "    label_dict[possible_label] = index\n",
        "label_dict\n",
        "df['label'] = df.CATEGORY_ID.replace(label_dict)\n",
        "#label on categories"
      ],
      "execution_count": null,
      "outputs": []
    },
    {
      "cell_type": "code",
      "metadata": {
        "id": "80NTMZeiGS2g"
      },
      "source": [
        "categories=df['CATEGORY_ID'].unique()"
      ],
      "execution_count": null,
      "outputs": []
    },
    {
      "cell_type": "code",
      "metadata": {
        "id": "oTETHgIYJBGz"
      },
      "source": [
        "model_name='distilbert-base-uncased'"
      ],
      "execution_count": null,
      "outputs": []
    },
    {
      "cell_type": "code",
      "metadata": {
        "id": "PwrzEu9bcfS1"
      },
      "source": [
        "# text preprocessing"
      ],
      "execution_count": null,
      "outputs": []
    },
    {
      "cell_type": "code",
      "metadata": {
        "colab": {
          "base_uri": "https://localhost:8080/"
        },
        "id": "94ZlovRPcrAJ",
        "outputId": "b008a299-90ac-4b02-dedc-3a3a70ce6cdc"
      },
      "source": [
        "categories=pd.unique(df['CATEGORY_ID'])\n",
        "groups_freq={}\n",
        "for i in df.index:\n",
        "  grp=df['CATEGORY_ID'][i]\n",
        "  groups_freq[grp]=groups_freq.get(grp,0)+1\n",
        "groups_freq=sorted(groups_freq.items(),key=lambda kv:(kv[1]),reverse=True)\n",
        "groups_freq\n",
        "#total count of words for each group"
      ],
      "execution_count": null,
      "outputs": [
        {
          "output_type": "execute_result",
          "data": {
            "text/plain": [
              "[('CUTTING TOOLS', 5000),\n",
              " ('CAPITAL ASSEMBLY', 2000),\n",
              " ('CHEMICALS', 2000),\n",
              " ('LOGISTICS SERVICE', 1000)]"
            ]
          },
          "metadata": {},
          "execution_count": 10
        }
      ]
    },
    {
      "cell_type": "code",
      "metadata": {
        "colab": {
          "base_uri": "https://localhost:8080/"
        },
        "id": "4dba-cT1c1zQ",
        "outputId": "aecaf42a-2907-495d-d1da-a70dcd526863"
      },
      "source": [
        "df[df['CATEGORY_ID'].isnull()].index.tolist()"
      ],
      "execution_count": null,
      "outputs": [
        {
          "output_type": "execute_result",
          "data": {
            "text/plain": [
              "[]"
            ]
          },
          "metadata": {},
          "execution_count": 11
        }
      ]
    },
    {
      "cell_type": "code",
      "metadata": {
        "id": "yMsaBOm8iBUC"
      },
      "source": [
        "# NLP text tokens\n",
        "def tokenize(text):\n",
        "  words=word_tokenize(text)\n",
        "  return words"
      ],
      "execution_count": null,
      "outputs": []
    },
    {
      "cell_type": "code",
      "metadata": {
        "id": "0CuCVE7sibCC"
      },
      "source": [
        "# removing stopwords\n",
        "stop=stopwords.words('english')\n",
        "puncs=list(string.punctuation)\n",
        "stop=stop+puncs\n",
        "def remove_stops(words):\n",
        "  cleaned=[w for w in words if not w.lower() in stop]\n",
        "  return cleaned"
      ],
      "execution_count": null,
      "outputs": []
    },
    {
      "cell_type": "code",
      "metadata": {
        "id": "VEjyX8BpjDts"
      },
      "source": [
        "# document parsing\n",
        "def pos_tg(cleaned):\n",
        "  pos=np.array(pos_tag(cleaned))\n",
        "  return pos\n",
        "\n",
        "def get_simple_pos(tag):\n",
        "  if tag.startswith('J'):\n",
        "    return wordnet.ADJ\n",
        "  elif tag.startswith('V'):\n",
        "    return wordnet.VERB\n",
        "  elif tag.startswith('N'):\n",
        "    return wordnet.NOUN\n",
        "  elif tag.startswith('R'):\n",
        "    return wordnet.ADV\n",
        "  else:\n",
        "    return wordnet.NOUN"
      ],
      "execution_count": null,
      "outputs": []
    },
    {
      "cell_type": "code",
      "metadata": {
        "id": "Q82HeAl6j9WZ"
      },
      "source": [
        "# lemitizing\n",
        "lemmatizer=WordNetLemmatizer()\n",
        "\n",
        "def lemmatize(pos):\n",
        "  lemmatized=[]\n",
        "  for w in pos:\n",
        "    lemmatizedword=lemmatizer.lemmatize(w[0],get_simple_pos(w[1]))\n",
        "    lemmatized.append(lemmatizedword)\n",
        "  return lemmatized\n"
      ],
      "execution_count": null,
      "outputs": []
    },
    {
      "cell_type": "code",
      "metadata": {
        "id": "rqDQPKwvkmpw"
      },
      "source": [
        "def preprocess(text):\n",
        "  words=tokenize(text)\n",
        "  cleaned=remove_stops(words)\n",
        "  pos=pos_tag(cleaned)\n",
        "  lemmatized=lemmatize(pos)\n",
        "  preprocessed=\" \".join(lemmatized)\n",
        "  return preprocessed"
      ],
      "execution_count": null,
      "outputs": []
    },
    {
      "cell_type": "code",
      "metadata": {
        "id": "imqec7rVpp8u"
      },
      "source": [
        "\n",
        "worddic={}\n",
        "rows=[]\n",
        "for i in df.index:\n",
        "  row=df['ITEM_NAME'][i]\n",
        "  row=df['ITEM_NAME'][i].lower()\n",
        "  # row=re.sub(r'(\\S*)([0-9]+)(\\S*)',\" \",row)\n",
        "  # row=re.sub(r'[!@#$%`^&,.*)_(-+|}{\":?\\/<>]',\" \",row)\n",
        "  row=re.sub('[^A-Za-z0-9]+', ' ', row)\n",
        "  if row.count(' ')>(len(row)-row.count(' ')-2):\n",
        "    row=row.replace(' ','')\n",
        "    no_list=[]\n",
        "    for item in row:\n",
        "        if re.search('[a-zA-Z]',item):\n",
        "            no_list.append(item)\n",
        "        if re.search('\\d',item):\n",
        "            no_list.append(' ')\n",
        "            no_list.append(item)\n",
        "    row=''.join(no_list)\n",
        "  # row=re.sub(\"[A-Za-z]+\", lambda ele: \" \" + ele[0] + \" \", row)\n",
        "  row=re.sub(r'(\\s*)\\n(\\s*)',\" \",row)\n",
        "  row=re.sub(r'(\\s*)\\-(\\s*)',\" \",row)\n",
        "  row=re.sub(r'(\\s*)\\=(\\s*)',\" \",row)\n",
        "  row=re.sub(r'(\\s*)\\\\(\\s*)',\" \",row)\n",
        "  row=re.sub(r\"(\\s*)'(\\s*)\",\" \",row)\n",
        "  row=re.sub(r'block','block ',row)\n",
        "  # row=re.sub(r'')\n",
        "  tokens=row.split(\" \")\n",
        "  tokens=[t.lower() for t in tokens if len(t)>=1 and len(t)<20]\n",
        "  text=\" \".join(tokens)\n",
        "  \n",
        "  row=preprocess(text)\n",
        "  tokens=row.split(\" \")\n",
        "  for j in tokens:\n",
        "    worddic[j]=worddic.get(j,0)+1\n",
        "  rows.append(row)"
      ],
      "execution_count": null,
      "outputs": []
    },
    {
      "cell_type": "code",
      "metadata": {
        "id": "jjKKSa7KsY3L"
      },
      "source": [
        "df['refined_text']=rows"
      ],
      "execution_count": null,
      "outputs": []
    },
    {
      "cell_type": "code",
      "metadata": {
        "colab": {
          "base_uri": "https://localhost:8080/",
          "height": 204
        },
        "id": "vO9XjkbLX9WH",
        "outputId": "189b1d04-2ffc-4b17-e0bd-fd1b9b78afca"
      },
      "source": [
        "df[df['refined_text'].str.contains(r'^\\s*$', na=False)].head() # list of empty values got while cleaning data"
      ],
      "execution_count": null,
      "outputs": [
        {
          "output_type": "execute_result",
          "data": {
            "text/html": [
              "<div>\n",
              "<style scoped>\n",
              "    .dataframe tbody tr th:only-of-type {\n",
              "        vertical-align: middle;\n",
              "    }\n",
              "\n",
              "    .dataframe tbody tr th {\n",
              "        vertical-align: top;\n",
              "    }\n",
              "\n",
              "    .dataframe thead th {\n",
              "        text-align: right;\n",
              "    }\n",
              "</style>\n",
              "<table border=\"1\" class=\"dataframe\">\n",
              "  <thead>\n",
              "    <tr style=\"text-align: right;\">\n",
              "      <th></th>\n",
              "      <th>ITEM_NAME</th>\n",
              "      <th>CATEGORY_ID</th>\n",
              "      <th>label</th>\n",
              "      <th>refined_text</th>\n",
              "    </tr>\n",
              "  </thead>\n",
              "  <tbody>\n",
              "    <tr>\n",
              "      <th>2094</th>\n",
              "      <td>.</td>\n",
              "      <td>CHEMICALS</td>\n",
              "      <td>1</td>\n",
              "      <td></td>\n",
              "    </tr>\n",
              "    <tr>\n",
              "      <th>2096</th>\n",
              "      <td>0</td>\n",
              "      <td>CHEMICALS</td>\n",
              "      <td>1</td>\n",
              "      <td></td>\n",
              "    </tr>\n",
              "    <tr>\n",
              "      <th>4613</th>\n",
              "      <td>.</td>\n",
              "      <td>CUTTING TOOLS</td>\n",
              "      <td>2</td>\n",
              "      <td></td>\n",
              "    </tr>\n",
              "    <tr>\n",
              "      <th>4692</th>\n",
              "      <td>??????</td>\n",
              "      <td>CUTTING TOOLS</td>\n",
              "      <td>2</td>\n",
              "      <td></td>\n",
              "    </tr>\n",
              "    <tr>\n",
              "      <th>4715</th>\n",
              "      <td>0</td>\n",
              "      <td>CUTTING TOOLS</td>\n",
              "      <td>2</td>\n",
              "      <td></td>\n",
              "    </tr>\n",
              "  </tbody>\n",
              "</table>\n",
              "</div>"
            ],
            "text/plain": [
              "     ITEM_NAME    CATEGORY_ID  label refined_text\n",
              "2094         .      CHEMICALS      1             \n",
              "2096         0      CHEMICALS      1             \n",
              "4613         .  CUTTING TOOLS      2             \n",
              "4692    ??????  CUTTING TOOLS      2             \n",
              "4715         0  CUTTING TOOLS      2             "
            ]
          },
          "metadata": {},
          "execution_count": 19
        }
      ]
    },
    {
      "cell_type": "code",
      "metadata": {
        "id": "ei2xXY0utXrz"
      },
      "source": [
        "df_new=df.drop(df[df['refined_text'].str.contains(r'^\\s*$', na=False)].index).copy()"
      ],
      "execution_count": null,
      "outputs": []
    },
    {
      "cell_type": "code",
      "metadata": {
        "colab": {
          "base_uri": "https://localhost:8080/",
          "height": 204
        },
        "id": "-fS-zN8MtrGy",
        "outputId": "0b955657-67a8-4dde-e5fb-70314309fb46"
      },
      "source": [
        "df_new.head()"
      ],
      "execution_count": null,
      "outputs": [
        {
          "output_type": "execute_result",
          "data": {
            "text/html": [
              "<div>\n",
              "<style scoped>\n",
              "    .dataframe tbody tr th:only-of-type {\n",
              "        vertical-align: middle;\n",
              "    }\n",
              "\n",
              "    .dataframe tbody tr th {\n",
              "        vertical-align: top;\n",
              "    }\n",
              "\n",
              "    .dataframe thead th {\n",
              "        text-align: right;\n",
              "    }\n",
              "</style>\n",
              "<table border=\"1\" class=\"dataframe\">\n",
              "  <thead>\n",
              "    <tr style=\"text-align: right;\">\n",
              "      <th></th>\n",
              "      <th>ITEM_NAME</th>\n",
              "      <th>CATEGORY_ID</th>\n",
              "      <th>label</th>\n",
              "      <th>refined_text</th>\n",
              "    </tr>\n",
              "  </thead>\n",
              "  <tbody>\n",
              "    <tr>\n",
              "      <th>0</th>\n",
              "      <td>CALIBRACION TRANSDUCER 75 nm</td>\n",
              "      <td>CAPITAL ASSEMBLY</td>\n",
              "      <td>0</td>\n",
              "      <td>calibracion transducer 75 nm</td>\n",
              "    </tr>\n",
              "    <tr>\n",
              "      <th>1</th>\n",
              "      <td>for pusher whskey</td>\n",
              "      <td>CAPITAL ASSEMBLY</td>\n",
              "      <td>0</td>\n",
              "      <td>pusher whskey</td>\n",
              "    </tr>\n",
              "    <tr>\n",
              "      <th>2</th>\n",
              "      <td>Stat 40B Press Head Cup to Carrier from Stati...</td>\n",
              "      <td>CAPITAL ASSEMBLY</td>\n",
              "      <td>0</td>\n",
              "      <td>stat 40b press head cup carrier station k2xx t...</td>\n",
              "    </tr>\n",
              "    <tr>\n",
              "      <th>3</th>\n",
              "      <td>TRANSD. Cable (4145097103) scrw</td>\n",
              "      <td>CAPITAL ASSEMBLY</td>\n",
              "      <td>0</td>\n",
              "      <td>transd cable 4145097103 scrw</td>\n",
              "    </tr>\n",
              "    <tr>\n",
              "      <th>4</th>\n",
              "      <td>ZT200 7,5BAR,13BAR60HZ NUMERO DE SERIE: AIF09...</td>\n",
              "      <td>CAPITAL ASSEMBLY</td>\n",
              "      <td>0</td>\n",
              "      <td>zt200 5bar 13bar60hz numero de serie aif094466...</td>\n",
              "    </tr>\n",
              "  </tbody>\n",
              "</table>\n",
              "</div>"
            ],
            "text/plain": [
              "                                           ITEM_NAME  ...                                       refined_text\n",
              "0                       CALIBRACION TRANSDUCER 75 nm  ...                       calibracion transducer 75 nm\n",
              "1                                  for pusher whskey  ...                                      pusher whskey\n",
              "2   Stat 40B Press Head Cup to Carrier from Stati...  ...  stat 40b press head cup carrier station k2xx t...\n",
              "3                    TRANSD. Cable (4145097103) scrw  ...                       transd cable 4145097103 scrw\n",
              "4   ZT200 7,5BAR,13BAR60HZ NUMERO DE SERIE: AIF09...  ...  zt200 5bar 13bar60hz numero de serie aif094466...\n",
              "\n",
              "[5 rows x 4 columns]"
            ]
          },
          "metadata": {},
          "execution_count": 21
        }
      ]
    },
    {
      "cell_type": "code",
      "metadata": {
        "id": "DiXnB2Gj0183"
      },
      "source": [
        "df_train, df_validate, df_test = \\\n",
        "              np.split(df_new.sample(frac=1, random_state=42), \n",
        "                       [int(.8*len(df_new)), int(.9*len(df_new))])"
      ],
      "execution_count": null,
      "outputs": []
    },
    {
      "cell_type": "code",
      "metadata": {
        "colab": {
          "base_uri": "https://localhost:8080/"
        },
        "id": "Q67vCw9F1Qp9",
        "outputId": "faadd579-1638-450a-b038-32291084c454"
      },
      "source": [
        "max_length=[]\n",
        "for i in df_new.index:\n",
        "  \n",
        "  max_length.append(len(df_new['refined_text'][i]))\n",
        "max_length.sort(reverse=True)\n",
        "max_length[0:5]"
      ],
      "execution_count": null,
      "outputs": [
        {
          "output_type": "execute_result",
          "data": {
            "text/plain": [
              "[691, 541, 495, 465, 458]"
            ]
          },
          "metadata": {},
          "execution_count": 23
        }
      ]
    },
    {
      "cell_type": "code",
      "metadata": {
        "id": "A-1bdXZx1XqM"
      },
      "source": [
        "# colab has a limitation of not running over max length of 512 ..so choosing 120 length for faster exec\n",
        "from ktrain import text\n",
        "model_name='distilbert-base-uncased'\n",
        "trans=text.Transformer(model_name,maxlen=120,class_names=categories)"
      ],
      "execution_count": null,
      "outputs": []
    },
    {
      "cell_type": "code",
      "metadata": {
        "colab": {
          "base_uri": "https://localhost:8080/",
          "height": 388,
          "referenced_widgets": [
            "44fbcddc41c84a5f8c620738164f6cc4",
            "e700925afb01416da0e03d244874ac65",
            "64cf1af3ee17430a96ba9b8808b1e2d4",
            "1885cae29e074def99dab543d2a463e4",
            "e488561577ff473c919b09d8c1c5dd66",
            "f3667b139d654bebae02bda1be3e90d9",
            "75d63a014cd8441c82f6ec272ba1d2dd",
            "b951c9c15abf43b997b2e1bf8c5f0fca",
            "940a6623dd1a477cad95842fb99c89e5",
            "2f5a5277eb6c46b2be54fd9a9cb4deca",
            "643e2c1c89e24f8a8a29dc4ab829f502",
            "d624e107d1494468a71389300407039f",
            "da2ced1cc04f493bb870e71a0b5c9290",
            "8df331a6ab084473a4bc807a5b49ca0d",
            "50e338088c3f4750b57063e2ecc46e19",
            "e8d70140d9f44bd1b87cb08e658c57ee",
            "0c648c0c463148fc80b5a66b6d87f8fb",
            "d6d0dad1d5064256a909ab87257e8af6",
            "211d742bb408486995d05e9716168bb4",
            "d1584e4119d74847bb94f2b813c3a8ee",
            "454203a6bed64f708ea83be012220828",
            "64c1dbe62060444083682320d9b7bc28",
            "e4f0af9a06ac487c829df90c9c914249",
            "88c389c5a0db47e2bc4fae69d2c60f83",
            "f4500584d18f429d854abf7237a29a25",
            "f3f068b71f7b49d2bac29a7da2d167da",
            "24530f2d7d2d47ffa1a36169b408838c",
            "7149450872744b308efde663b62348f2",
            "76b6a6df71764a77b182287a211d18a7",
            "fc7f5693ce0b491bb73156ef700954d9",
            "0c85ff09e96947e981c93b04c9da2ecf",
            "ceb27a5d40464d81a7fc779cf52822cd",
            "85802ee5a2bd457899af77507f1ab3e5"
          ]
        },
        "id": "VH4bS-jx2L-h",
        "outputId": "740b507d-6787-4eb4-ed78-a106e5b0bd00"
      },
      "source": [
        "import numpy as np\n",
        "train_data=trans.preprocess_train(np.array(df_train['refined_text']),np.array(df_train['CATEGORY_ID']))\n",
        "test_data=trans.preprocess_test(np.array(df_test['refined_text']),np.array(df_test['CATEGORY_ID']))"
      ],
      "execution_count": null,
      "outputs": [
        {
          "output_type": "stream",
          "name": "stdout",
          "text": [
            "preprocessing train...\n",
            "language: en\n",
            "train sequence lengths:\n",
            "\tmean : 8\n",
            "\t95percentile : 19\n",
            "\t99percentile : 28\n"
          ]
        },
        {
          "output_type": "stream",
          "name": "stderr",
          "text": [
            "/usr/local/lib/python3.7/dist-packages/ktrain/utils.py:588: UserWarning: class_names argument was ignored, as they were extracted from string labels in dataset\n",
            "  if self.get_classes(): warnings.warn('class_names argument was ignored, as they were extracted from string labels in dataset')\n"
          ]
        },
        {
          "output_type": "display_data",
          "data": {
            "application/vnd.jupyter.widget-view+json": {
              "model_id": "44fbcddc41c84a5f8c620738164f6cc4",
              "version_minor": 0,
              "version_major": 2
            },
            "text/plain": [
              "Downloading:   0%|          | 0.00/226k [00:00<?, ?B/s]"
            ]
          },
          "metadata": {}
        },
        {
          "output_type": "display_data",
          "data": {
            "application/vnd.jupyter.widget-view+json": {
              "model_id": "d624e107d1494468a71389300407039f",
              "version_minor": 0,
              "version_major": 2
            },
            "text/plain": [
              "Downloading:   0%|          | 0.00/455k [00:00<?, ?B/s]"
            ]
          },
          "metadata": {}
        },
        {
          "output_type": "display_data",
          "data": {
            "application/vnd.jupyter.widget-view+json": {
              "model_id": "e4f0af9a06ac487c829df90c9c914249",
              "version_minor": 0,
              "version_major": 2
            },
            "text/plain": [
              "Downloading:   0%|          | 0.00/28.0 [00:00<?, ?B/s]"
            ]
          },
          "metadata": {}
        },
        {
          "output_type": "display_data",
          "data": {
            "text/html": [
              ""
            ],
            "text/plain": [
              "<IPython.core.display.HTML object>"
            ]
          },
          "metadata": {}
        },
        {
          "output_type": "stream",
          "name": "stdout",
          "text": [
            "Is Multi-Label? False\n",
            "preprocessing test...\n",
            "language: en\n",
            "test sequence lengths:\n",
            "\tmean : 9\n",
            "\t95percentile : 21\n",
            "\t99percentile : 31\n"
          ]
        },
        {
          "output_type": "display_data",
          "data": {
            "text/html": [
              ""
            ],
            "text/plain": [
              "<IPython.core.display.HTML object>"
            ]
          },
          "metadata": {}
        }
      ]
    },
    {
      "cell_type": "code",
      "metadata": {
        "id": "dyt1Pfx42ki9"
      },
      "source": [
        "model=trans.get_classifier()"
      ],
      "execution_count": null,
      "outputs": []
    },
    {
      "cell_type": "code",
      "metadata": {
        "id": "wbEFASIM2u01"
      },
      "source": [
        "learner=ktrain.get_learner(model,train_data=train_data,val_data=test_data,batch_size=16)"
      ],
      "execution_count": null,
      "outputs": []
    },
    {
      "cell_type": "code",
      "metadata": {
        "id": "FzgEti4_20rt"
      },
      "source": [
        "learner.lr_find(show_plot=True,max_epochs=10)"
      ],
      "execution_count": null,
      "outputs": []
    },
    {
      "cell_type": "code",
      "metadata": {
        "colab": {
          "base_uri": "https://localhost:8080/"
        },
        "id": "zHvYvemU2728",
        "outputId": "eeec4dcc-50d3-410e-96a0-a343f672a064"
      },
      "source": [
        "learner.fit_onecycle(1e-4,10)\n",
        "# training data for 10 epoches as it was taking a lot of time on colab\n",
        "# still able to get good accuracy"
      ],
      "execution_count": null,
      "outputs": [
        {
          "output_type": "stream",
          "name": "stdout",
          "text": [
            "\n",
            "\n",
            "begin training using onecycle policy with max lr of 0.0001...\n",
            "Epoch 1/10\n",
            "500/500 [==============================] - 226s 424ms/step - loss: 0.5983 - accuracy: 0.7700 - val_loss: 0.2968 - val_accuracy: 0.8999\n",
            "Epoch 2/10\n",
            "500/500 [==============================] - 212s 420ms/step - loss: 0.2924 - accuracy: 0.9025 - val_loss: 0.2576 - val_accuracy: 0.9169\n",
            "Epoch 3/10\n",
            "500/500 [==============================] - 212s 420ms/step - loss: 0.2009 - accuracy: 0.9341 - val_loss: 0.2693 - val_accuracy: 0.9179\n",
            "Epoch 4/10\n",
            "500/500 [==============================] - 212s 420ms/step - loss: 0.1505 - accuracy: 0.9494 - val_loss: 0.3407 - val_accuracy: 0.9079\n",
            "Epoch 5/10\n",
            "500/500 [==============================] - 212s 420ms/step - loss: 0.1437 - accuracy: 0.9514 - val_loss: 0.2809 - val_accuracy: 0.9159\n",
            "Epoch 6/10\n",
            "500/500 [==============================] - 212s 420ms/step - loss: 0.1111 - accuracy: 0.9658 - val_loss: 0.2823 - val_accuracy: 0.9289\n",
            "Epoch 7/10\n",
            "500/500 [==============================] - 212s 419ms/step - loss: 0.0629 - accuracy: 0.9806 - val_loss: 0.2846 - val_accuracy: 0.9289\n",
            "Epoch 8/10\n",
            "500/500 [==============================] - 211s 419ms/step - loss: 0.0407 - accuracy: 0.9866 - val_loss: 0.3216 - val_accuracy: 0.9319\n",
            "Epoch 9/10\n",
            "500/500 [==============================] - 211s 418ms/step - loss: 0.0206 - accuracy: 0.9924 - val_loss: 0.3234 - val_accuracy: 0.9349\n",
            "Epoch 10/10\n",
            "500/500 [==============================] - 212s 419ms/step - loss: 0.0120 - accuracy: 0.9944 - val_loss: 0.3436 - val_accuracy: 0.9319\n"
          ]
        },
        {
          "output_type": "execute_result",
          "data": {
            "text/plain": [
              "<keras.callbacks.History at 0x7f00a0ee7890>"
            ]
          },
          "metadata": {},
          "execution_count": 34
        }
      ]
    },
    {
      "cell_type": "code",
      "metadata": {
        "id": "foJ3dxIM3Ica"
      },
      "source": [
        "predictor=ktrain.get_predictor(learner.model,preproc=trans)"
      ],
      "execution_count": null,
      "outputs": []
    },
    {
      "cell_type": "code",
      "metadata": {
        "id": "lOvVXUb6HGKq"
      },
      "source": [
        "predictor.save('bert_multiclass')"
      ],
      "execution_count": null,
      "outputs": []
    },
    {
      "cell_type": "code",
      "metadata": {
        "id": "kol4hK6R3NYX",
        "colab": {
          "base_uri": "https://localhost:8080/",
          "height": 35
        },
        "outputId": "329e96d3-eb02-41cf-f415-576d3ff34bc9"
      },
      "source": [
        "sentence='015 247052rm dft body 32 shank lh drill '\n",
        "y_pred=predictor.predict(sentence)\n",
        "y_pred\n",
        "# now you can write any text wraped with autotokenizer to see the predictions"
      ],
      "execution_count": null,
      "outputs": [
        {
          "output_type": "execute_result",
          "data": {
            "application/vnd.google.colaboratory.intrinsic+json": {
              "type": "string"
            },
            "text/plain": [
              "'CAPITAL ASSEMBLY'"
            ]
          },
          "metadata": {},
          "execution_count": 60
        }
      ]
    },
    {
      "cell_type": "code",
      "metadata": {
        "colab": {
          "base_uri": "https://localhost:8080/"
        },
        "id": "pW6GxykmMASX",
        "outputId": "644c0bb4-1ee4-489e-feda-93bd39e7f37f"
      },
      "source": [
        "from transformers import AutoTokenizer\n",
        "tokenizer = AutoTokenizer.from_pretrained(model_name)\n",
        "# model = TFAutoModel.from_pretrained('/tmp/mymodel')\n",
        "input_ids = tf.constant(tokenizer.encode(\"bolsa de catsup etc\"))[None, :]  # Batch size 1\n",
        "outputs = model(input_ids)\n",
        "print(outputs)\n",
        "last_hidden_states = outputs[0]  # The last hidden-state is the first element of the output tuple\n",
        "print(last_hidden_states.numpy().shape) "
      ],
      "execution_count": null,
      "outputs": [
        {
          "output_type": "stream",
          "name": "stdout",
          "text": [
            "TFSequenceClassifierOutput(loss=None, logits=<tf.Tensor: shape=(1, 4), dtype=float32, numpy=array([[-2.4354908,  6.471775 , -3.206142 , -2.2497444]], dtype=float32)>, hidden_states=None, attentions=None)\n",
            "(1, 4)\n"
          ]
        }
      ]
    },
    {
      "cell_type": "code",
      "metadata": {
        "colab": {
          "base_uri": "https://localhost:8080/",
          "height": 419
        },
        "id": "kgEUPYLYKPu5",
        "outputId": "bd021fe4-0abe-4f9e-cfb8-6dcb667cbe9b"
      },
      "source": [
        "df_train"
      ],
      "execution_count": null,
      "outputs": [
        {
          "output_type": "execute_result",
          "data": {
            "text/html": [
              "<div>\n",
              "<style scoped>\n",
              "    .dataframe tbody tr th:only-of-type {\n",
              "        vertical-align: middle;\n",
              "    }\n",
              "\n",
              "    .dataframe tbody tr th {\n",
              "        vertical-align: top;\n",
              "    }\n",
              "\n",
              "    .dataframe thead th {\n",
              "        text-align: right;\n",
              "    }\n",
              "</style>\n",
              "<table border=\"1\" class=\"dataframe\">\n",
              "  <thead>\n",
              "    <tr style=\"text-align: right;\">\n",
              "      <th></th>\n",
              "      <th>ITEM_NAME</th>\n",
              "      <th>CATEGORY_ID</th>\n",
              "      <th>label</th>\n",
              "      <th>refined_text</th>\n",
              "    </tr>\n",
              "  </thead>\n",
              "  <tbody>\n",
              "    <tr>\n",
              "      <th>5844</th>\n",
              "      <td>015-24608R-SSREGRIND CF-991-1060-2DNACHICF-991...</td>\n",
              "      <td>CUTTING TOOLS</td>\n",
              "      <td>2</td>\n",
              "      <td>015 24608r ssregrind cf 991 1060 2dnachicf 991...</td>\n",
              "    </tr>\n",
              "    <tr>\n",
              "      <th>3060</th>\n",
              "      <td>Bolsa de catsup  etc</td>\n",
              "      <td>CHEMICALS</td>\n",
              "      <td>1</td>\n",
              "      <td>bolsa de catsup etc</td>\n",
              "    </tr>\n",
              "    <tr>\n",
              "      <th>8754</th>\n",
              "      <td>1355 GT-50817_6 Ingersoil master</td>\n",
              "      <td>CUTTING TOOLS</td>\n",
              "      <td>2</td>\n",
              "      <td>1355 gt 50817 ingersoil master</td>\n",
              "    </tr>\n",
              "    <tr>\n",
              "      <th>2666</th>\n",
              "      <td>ADHESIVE, SEALANT | 300ML | DESC : RED RTV | C...</td>\n",
              "      <td>CHEMICALS</td>\n",
              "      <td>1</td>\n",
              "      <td>adhesive sealant 300ml desc red rtv cartridge ...</td>\n",
              "    </tr>\n",
              "    <tr>\n",
              "      <th>35</th>\n",
              "      <td>(2) Metal Collar</td>\n",
              "      <td>CAPITAL ASSEMBLY</td>\n",
              "      <td>0</td>\n",
              "      <td>metal collar</td>\n",
              "    </tr>\n",
              "    <tr>\n",
              "      <th>...</th>\n",
              "      <td>...</td>\n",
              "      <td>...</td>\n",
              "      <td>...</td>\n",
              "      <td>...</td>\n",
              "    </tr>\n",
              "    <tr>\n",
              "      <th>5587</th>\n",
              "      <td>015-234091 O-RING 8X1.5 44785</td>\n",
              "      <td>CUTTING TOOLS</td>\n",
              "      <td>2</td>\n",
              "      <td>015 234091 ring 8x1 44785</td>\n",
              "    </tr>\n",
              "    <tr>\n",
              "      <th>5180</th>\n",
              "      <td>015-233035T TURNING INSERTS CBN 2QP-DNGA 432-H...</td>\n",
              "      <td>CUTTING TOOLS</td>\n",
              "      <td>2</td>\n",
              "      <td>015 233035t turning insert cbn 2qp dnga 432 bx...</td>\n",
              "    </tr>\n",
              "    <tr>\n",
              "      <th>1950</th>\n",
              "      <td>FD450 WSD250/750, NUMERO DE SERIE:  AIF093503,...</td>\n",
              "      <td>CAPITAL ASSEMBLY</td>\n",
              "      <td>0</td>\n",
              "      <td>fd450 wsd250 750 numero de serie aif093503 ven...</td>\n",
              "    </tr>\n",
              "    <tr>\n",
              "      <th>5377</th>\n",
              "      <td>015-2340135 Seal 140998</td>\n",
              "      <td>CUTTING TOOLS</td>\n",
              "      <td>2</td>\n",
              "      <td>015 2340135 seal 140998</td>\n",
              "    </tr>\n",
              "    <tr>\n",
              "      <th>689</th>\n",
              "      <td>Auto Line Retool (621556)</td>\n",
              "      <td>CAPITAL ASSEMBLY</td>\n",
              "      <td>0</td>\n",
              "      <td>auto line retool 621556</td>\n",
              "    </tr>\n",
              "  </tbody>\n",
              "</table>\n",
              "<p>7991 rows × 4 columns</p>\n",
              "</div>"
            ],
            "text/plain": [
              "                                              ITEM_NAME  ...                                       refined_text\n",
              "5844  015-24608R-SSREGRIND CF-991-1060-2DNACHICF-991...  ...  015 24608r ssregrind cf 991 1060 2dnachicf 991...\n",
              "3060                               Bolsa de catsup  etc  ...                                bolsa de catsup etc\n",
              "8754                   1355 GT-50817_6 Ingersoil master  ...                     1355 gt 50817 ingersoil master\n",
              "2666  ADHESIVE, SEALANT | 300ML | DESC : RED RTV | C...  ...  adhesive sealant 300ml desc red rtv cartridge ...\n",
              "35                                     (2) Metal Collar  ...                                       metal collar\n",
              "...                                                 ...  ...                                                ...\n",
              "5587                      015-234091 O-RING 8X1.5 44785  ...                          015 234091 ring 8x1 44785\n",
              "5180  015-233035T TURNING INSERTS CBN 2QP-DNGA 432-H...  ...  015 233035t turning insert cbn 2qp dnga 432 bx...\n",
              "1950  FD450 WSD250/750, NUMERO DE SERIE:  AIF093503,...  ...  fd450 wsd250 750 numero de serie aif093503 ven...\n",
              "5377                            015-2340135 Seal 140998  ...                            015 2340135 seal 140998\n",
              "689                           Auto Line Retool (621556)  ...                            auto line retool 621556\n",
              "\n",
              "[7991 rows x 4 columns]"
            ]
          },
          "metadata": {},
          "execution_count": 62
        }
      ]
    },
    {
      "cell_type": "code",
      "metadata": {
        "colab": {
          "base_uri": "https://localhost:8080/",
          "height": 453
        },
        "id": "NcqgiG4OK_2D",
        "outputId": "1abb8e13-674c-449b-a80d-9e82d826b2c5"
      },
      "source": [
        "df_test"
      ],
      "execution_count": null,
      "outputs": [
        {
          "output_type": "execute_result",
          "data": {
            "text/html": [
              "<div>\n",
              "<style scoped>\n",
              "    .dataframe tbody tr th:only-of-type {\n",
              "        vertical-align: middle;\n",
              "    }\n",
              "\n",
              "    .dataframe tbody tr th {\n",
              "        vertical-align: top;\n",
              "    }\n",
              "\n",
              "    .dataframe thead th {\n",
              "        text-align: right;\n",
              "    }\n",
              "</style>\n",
              "<table border=\"1\" class=\"dataframe\">\n",
              "  <thead>\n",
              "    <tr style=\"text-align: right;\">\n",
              "      <th></th>\n",
              "      <th>ITEM_NAME</th>\n",
              "      <th>CATEGORY_ID</th>\n",
              "      <th>label</th>\n",
              "      <th>refined_text</th>\n",
              "    </tr>\n",
              "  </thead>\n",
              "  <tbody>\n",
              "    <tr>\n",
              "      <th>8617</th>\n",
              "      <td>1241-87C</td>\n",
              "      <td>CUTTING TOOLS</td>\n",
              "      <td>2</td>\n",
              "      <td>1241 87c</td>\n",
              "    </tr>\n",
              "    <tr>\n",
              "      <th>9978</th>\n",
              "      <td>Escoba de plastico Escoba de plastico</td>\n",
              "      <td>LOGISTICS SERVICE</td>\n",
              "      <td>3</td>\n",
              "      <td>escoba de plastico escoba de plastico</td>\n",
              "    </tr>\n",
              "    <tr>\n",
              "      <th>8076</th>\n",
              "      <td>1 Set F40 Serrated Pads, 1.975 diameter for DB...</td>\n",
              "      <td>CUTTING TOOLS</td>\n",
              "      <td>2</td>\n",
              "      <td>set f40 serrate pad 975 diameter db2 chuck</td>\n",
              "    </tr>\n",
              "    <tr>\n",
              "      <th>8585</th>\n",
              "      <td>1227-15</td>\n",
              "      <td>CUTTING TOOLS</td>\n",
              "      <td>2</td>\n",
              "      <td>1227 15</td>\n",
              "    </tr>\n",
              "    <tr>\n",
              "      <th>7978</th>\n",
              "      <td>093061 MACHO EMUGE EFIC017N.0303 MACHO GEARS -...</td>\n",
              "      <td>CUTTING TOOLS</td>\n",
              "      <td>2</td>\n",
              "      <td>093061 macho emuge efic017n 0303 macho gear ef...</td>\n",
              "    </tr>\n",
              "    <tr>\n",
              "      <th>...</th>\n",
              "      <td>...</td>\n",
              "      <td>...</td>\n",
              "      <td>...</td>\n",
              "      <td>...</td>\n",
              "    </tr>\n",
              "    <tr>\n",
              "      <th>5739</th>\n",
              "      <td>015-24309465A DIAMOND SLEEVE .9465-E-84 IN W/#...</td>\n",
              "      <td>CUTTING TOOLS</td>\n",
              "      <td>2</td>\n",
              "      <td>015 24309465a diamond sleeve 9465 84 10x6 2pt ...</td>\n",
              "    </tr>\n",
              "    <tr>\n",
              "      <th>5196</th>\n",
              "      <td>015-233037 INSERT SCMT3252MP KCP10 3744949</td>\n",
              "      <td>CUTTING TOOLS</td>\n",
              "      <td>2</td>\n",
              "      <td>015 233037 insert scmt3252mp kcp10 3744949</td>\n",
              "    </tr>\n",
              "    <tr>\n",
              "      <th>5395</th>\n",
              "      <td>015-234022M SCREWS 2.2 KENNAM 1021337</td>\n",
              "      <td>CUTTING TOOLS</td>\n",
              "      <td>2</td>\n",
              "      <td>015 234022m screw kennam 1021337</td>\n",
              "    </tr>\n",
              "    <tr>\n",
              "      <th>860</th>\n",
              "      <td>BLOCK - | TYPE: STANDARD BALL RUNNER BLOCK | S...</td>\n",
              "      <td>CAPITAL ASSEMBLY</td>\n",
              "      <td>0</td>\n",
              "      <td>block type standard ball runner block style sl...</td>\n",
              "    </tr>\n",
              "    <tr>\n",
              "      <th>7275</th>\n",
              "      <td>015-2550-36TAP 7500 M5 X 0.80 PLUG D4 4FL BRTM...</td>\n",
              "      <td>CUTTING TOOLS</td>\n",
              "      <td>2</td>\n",
              "      <td>015 2550 36tap 7500 m5 80 plug d4 4fl brtmorse...</td>\n",
              "    </tr>\n",
              "  </tbody>\n",
              "</table>\n",
              "<p>999 rows × 4 columns</p>\n",
              "</div>"
            ],
            "text/plain": [
              "                                              ITEM_NAME  ...                                       refined_text\n",
              "8617                                           1241-87C  ...                                           1241 87c\n",
              "9978              Escoba de plastico Escoba de plastico  ...              escoba de plastico escoba de plastico\n",
              "8076  1 Set F40 Serrated Pads, 1.975 diameter for DB...  ...         set f40 serrate pad 975 diameter db2 chuck\n",
              "8585                                            1227-15  ...                                            1227 15\n",
              "7978  093061 MACHO EMUGE EFIC017N.0303 MACHO GEARS -...  ...  093061 macho emuge efic017n 0303 macho gear ef...\n",
              "...                                                 ...  ...                                                ...\n",
              "5739  015-24309465A DIAMOND SLEEVE .9465-E-84 IN W/#...  ...  015 24309465a diamond sleeve 9465 84 10x6 2pt ...\n",
              "5196         015-233037 INSERT SCMT3252MP KCP10 3744949  ...         015 233037 insert scmt3252mp kcp10 3744949\n",
              "5395              015-234022M SCREWS 2.2 KENNAM 1021337  ...                   015 234022m screw kennam 1021337\n",
              "860   BLOCK - | TYPE: STANDARD BALL RUNNER BLOCK | S...  ...  block type standard ball runner block style sl...\n",
              "7275  015-2550-36TAP 7500 M5 X 0.80 PLUG D4 4FL BRTM...  ...  015 2550 36tap 7500 m5 80 plug d4 4fl brtmorse...\n",
              "\n",
              "[999 rows x 4 columns]"
            ]
          },
          "metadata": {},
          "execution_count": 63
        }
      ]
    },
    {
      "cell_type": "code",
      "metadata": {
        "id": "H55Q61S1LDIg"
      },
      "source": [
        ""
      ],
      "execution_count": null,
      "outputs": []
    }
  ]
}