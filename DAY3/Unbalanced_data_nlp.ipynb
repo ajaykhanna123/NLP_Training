{
  "nbformat": 4,
  "nbformat_minor": 0,
  "metadata": {
    "colab": {
      "name": "Unbalanced_data_nlp.ipynb",
      "provenance": [],
      "collapsed_sections": []
    },
    "kernelspec": {
      "name": "python3",
      "display_name": "Python 3"
    },
    "language_info": {
      "name": "python"
    }
  },
  "cells": [
    {
      "cell_type": "markdown",
      "source": [
        "#Google Translation(google trans python package):\n",
        "  This is one of the useful techniques to expand the count of minority groups. Here, we translate the given sentence to ‘non-English’ language and then again translating to ‘English’. In this way, the significant details of the input message are maintained but the order of words / sometimes new words with similar meaning are introduced as a new record and thus boosting the count of insufficient class."
      ],
      "metadata": {
        "id": "HIr183GmGf-S"
      }
    },
    {
      "cell_type": "markdown",
      "source": [
        "input text  – “warning for using windows disk space”\n",
        "Data Augmented text – “Warning about using Windows storage space”\n",
        " \n",
        "\n",
        "Even though the meaning of the above sentence is the same, there are new words introduced and thus it enhances the learning ability of a language model by expanding the input sample count.\n",
        "\n",
        "The below-executed code can be found in the . This example includes just only one non-English code. There are many of them and the entire list of language codes that can be used in the google trans can be found ."
      ],
      "metadata": {
        "id": "GIgfGTAzG5Up"
      }
    },
    {
      "cell_type": "code",
      "source": [
        "pip install googletrans"
      ],
      "metadata": {
        "id": "G4RTgqf-HglR"
      },
      "execution_count": null,
      "outputs": []
    },
    {
      "cell_type": "code",
      "source": [
        "from googletrans import Translator\n",
        "translator = Translator()\n",
        "def German_translation(x):    \n",
        "  print(x)        \n",
        "  german_translation = translator.translate(x, dest='de')        \n",
        "  return german_translation.text\n",
        "def English_translation(x):    \n",
        "  print(x)    \n",
        "  english_translation = translator.translate(x, dest='en') \n",
        "  return english_translation.text"
      ],
      "metadata": {
        "id": "RaTOvHsCGgrS"
      },
      "execution_count": null,
      "outputs": []
    },
    {
      "cell_type": "markdown",
      "source": [
        "Class weights: The second option is to leverage the class weights parameter during the fit model process. For each class in the target, a weightage is assigned. The minority class will get more weightage when compared to the majority ones. As a result, during the backpropagation, more loss value is associated with the minority class and the model will give equal attention to all the classes present in the output. "
      ],
      "metadata": {
        "id": "CYSmVV4pHrCa"
      }
    },
    {
      "cell_type": "code",
      "source": [
        "import numpy as np\n",
        "from tensorflow import keras\n",
        "from sklearn.utils.class_weight import compute_class_weight\n",
        "# raw_y_train -- training data\n",
        "y_integers = np.argmax(raw_y_train, axis=1)\n",
        "class_weights = compute_class_weight('balanced', np.unique(y_integers), y_integers)\n",
        "d_class_weights = dict(enumerate(class_weights))\n",
        "history = model.fit(input_final, raw_y_train, batch_size=32, class_weight = d_class_weights, epochs=8,callbacks=[checkpoint,reduceLoss],validation_data =(val_final, raw_y_val), verbose=1)"
      ],
      "metadata": {
        "id": "nbmkZGudHIsb"
      },
      "execution_count": null,
      "outputs": []
    },
    {
      "cell_type": "code",
      "source": [
        "# Apart from these techniques , under sampling and over sampling are the options"
      ],
      "metadata": {
        "id": "6qk9-bkRHvW7"
      },
      "execution_count": 7,
      "outputs": []
    },
    {
      "cell_type": "code",
      "source": [
        ""
      ],
      "metadata": {
        "id": "yEwfhde6JHKt"
      },
      "execution_count": null,
      "outputs": []
    }
  ]
}