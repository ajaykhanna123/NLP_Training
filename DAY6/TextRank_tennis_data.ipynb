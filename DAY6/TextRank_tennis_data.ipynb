{
  "nbformat": 4,
  "nbformat_minor": 0,
  "metadata": {
    "colab": {
      "name": "TextRank_tennis_data.ipynb",
      "provenance": []
    },
    "kernelspec": {
      "name": "python3",
      "display_name": "Python 3"
    },
    "language_info": {
      "name": "python"
    }
  },
  "cells": [
    {
      "cell_type": "code",
      "execution_count": null,
      "metadata": {
        "colab": {
          "base_uri": "https://localhost:8080/"
        },
        "id": "7SPH6LtV9vw4",
        "outputId": "de79f275-bb83-4273-816e-3d0e315a54d3"
      },
      "outputs": [
        {
          "output_type": "stream",
          "name": "stdout",
          "text": [
            "[nltk_data] Downloading package punkt to /root/nltk_data...\n",
            "[nltk_data]   Package punkt is already up-to-date!\n"
          ]
        }
      ],
      "source": [
        "import numpy as np\n",
        "import pandas as pd\n",
        "import nltk\n",
        "nltk.download('punkt') # one time execution\n",
        "import re"
      ]
    },
    {
      "cell_type": "code",
      "source": [
        "df = pd.read_csv(\"tennis_articles.csv\",encoding= 'unicode_escape')"
      ],
      "metadata": {
        "id": "Z4cZKwBd93_d"
      },
      "execution_count": null,
      "outputs": []
    },
    {
      "cell_type": "code",
      "source": [
        "df.head()"
      ],
      "metadata": {
        "colab": {
          "base_uri": "https://localhost:8080/",
          "height": 337
        },
        "id": "7KFFSm61-E6v",
        "outputId": "197ea6f9-9399-4b0e-aa21-18531f41ae6f"
      },
      "execution_count": null,
      "outputs": [
        {
          "output_type": "execute_result",
          "data": {
            "text/html": [
              "\n",
              "  <div id=\"df-9ceba915-56fc-481f-a2d3-6b6eb32955f1\">\n",
              "    <div class=\"colab-df-container\">\n",
              "      <div>\n",
              "<style scoped>\n",
              "    .dataframe tbody tr th:only-of-type {\n",
              "        vertical-align: middle;\n",
              "    }\n",
              "\n",
              "    .dataframe tbody tr th {\n",
              "        vertical-align: top;\n",
              "    }\n",
              "\n",
              "    .dataframe thead th {\n",
              "        text-align: right;\n",
              "    }\n",
              "</style>\n",
              "<table border=\"1\" class=\"dataframe\">\n",
              "  <thead>\n",
              "    <tr style=\"text-align: right;\">\n",
              "      <th></th>\n",
              "      <th>article_id</th>\n",
              "      <th>article_title</th>\n",
              "      <th>article_text</th>\n",
              "      <th>source</th>\n",
              "    </tr>\n",
              "  </thead>\n",
              "  <tbody>\n",
              "    <tr>\n",
              "      <th>0</th>\n",
              "      <td>1</td>\n",
              "      <td>I do not have friends in tennis, says Maria Sh...</td>\n",
              "      <td>Maria Sharapova has basically no friends as te...</td>\n",
              "      <td>https://www.tennisworldusa.org/tennis/news/Mar...</td>\n",
              "    </tr>\n",
              "    <tr>\n",
              "      <th>1</th>\n",
              "      <td>2</td>\n",
              "      <td>Federer defeats Medvedev to advance to 14th Sw...</td>\n",
              "      <td>BASEL, Switzerland (AP)  Roger Federer advanc...</td>\n",
              "      <td>http://www.tennis.com/pro-game/2018/10/copil-s...</td>\n",
              "    </tr>\n",
              "    <tr>\n",
              "      <th>2</th>\n",
              "      <td>3</td>\n",
              "      <td>Tennis: Roger Federer ignored deadline set by ...</td>\n",
              "      <td>Roger Federer has revealed that organisers of ...</td>\n",
              "      <td>https://scroll.in/field/899938/tennis-roger-fe...</td>\n",
              "    </tr>\n",
              "    <tr>\n",
              "      <th>3</th>\n",
              "      <td>4</td>\n",
              "      <td>Nishikori to face off against Anderson in Vien...</td>\n",
              "      <td>Kei Nishikori will try to end his long losing ...</td>\n",
              "      <td>http://www.tennis.com/pro-game/2018/10/nishiko...</td>\n",
              "    </tr>\n",
              "    <tr>\n",
              "      <th>4</th>\n",
              "      <td>5</td>\n",
              "      <td>Roger Federer has made this huge change to ten...</td>\n",
              "      <td>Federer, 37, first broke through on tour over ...</td>\n",
              "      <td>https://www.express.co.uk/sport/tennis/1036101...</td>\n",
              "    </tr>\n",
              "  </tbody>\n",
              "</table>\n",
              "</div>\n",
              "      <button class=\"colab-df-convert\" onclick=\"convertToInteractive('df-9ceba915-56fc-481f-a2d3-6b6eb32955f1')\"\n",
              "              title=\"Convert this dataframe to an interactive table.\"\n",
              "              style=\"display:none;\">\n",
              "        \n",
              "  <svg xmlns=\"http://www.w3.org/2000/svg\" height=\"24px\"viewBox=\"0 0 24 24\"\n",
              "       width=\"24px\">\n",
              "    <path d=\"M0 0h24v24H0V0z\" fill=\"none\"/>\n",
              "    <path d=\"M18.56 5.44l.94 2.06.94-2.06 2.06-.94-2.06-.94-.94-2.06-.94 2.06-2.06.94zm-11 1L8.5 8.5l.94-2.06 2.06-.94-2.06-.94L8.5 2.5l-.94 2.06-2.06.94zm10 10l.94 2.06.94-2.06 2.06-.94-2.06-.94-.94-2.06-.94 2.06-2.06.94z\"/><path d=\"M17.41 7.96l-1.37-1.37c-.4-.4-.92-.59-1.43-.59-.52 0-1.04.2-1.43.59L10.3 9.45l-7.72 7.72c-.78.78-.78 2.05 0 2.83L4 21.41c.39.39.9.59 1.41.59.51 0 1.02-.2 1.41-.59l7.78-7.78 2.81-2.81c.8-.78.8-2.07 0-2.86zM5.41 20L4 18.59l7.72-7.72 1.47 1.35L5.41 20z\"/>\n",
              "  </svg>\n",
              "      </button>\n",
              "      \n",
              "  <style>\n",
              "    .colab-df-container {\n",
              "      display:flex;\n",
              "      flex-wrap:wrap;\n",
              "      gap: 12px;\n",
              "    }\n",
              "\n",
              "    .colab-df-convert {\n",
              "      background-color: #E8F0FE;\n",
              "      border: none;\n",
              "      border-radius: 50%;\n",
              "      cursor: pointer;\n",
              "      display: none;\n",
              "      fill: #1967D2;\n",
              "      height: 32px;\n",
              "      padding: 0 0 0 0;\n",
              "      width: 32px;\n",
              "    }\n",
              "\n",
              "    .colab-df-convert:hover {\n",
              "      background-color: #E2EBFA;\n",
              "      box-shadow: 0px 1px 2px rgba(60, 64, 67, 0.3), 0px 1px 3px 1px rgba(60, 64, 67, 0.15);\n",
              "      fill: #174EA6;\n",
              "    }\n",
              "\n",
              "    [theme=dark] .colab-df-convert {\n",
              "      background-color: #3B4455;\n",
              "      fill: #D2E3FC;\n",
              "    }\n",
              "\n",
              "    [theme=dark] .colab-df-convert:hover {\n",
              "      background-color: #434B5C;\n",
              "      box-shadow: 0px 1px 3px 1px rgba(0, 0, 0, 0.15);\n",
              "      filter: drop-shadow(0px 1px 2px rgba(0, 0, 0, 0.3));\n",
              "      fill: #FFFFFF;\n",
              "    }\n",
              "  </style>\n",
              "\n",
              "      <script>\n",
              "        const buttonEl =\n",
              "          document.querySelector('#df-9ceba915-56fc-481f-a2d3-6b6eb32955f1 button.colab-df-convert');\n",
              "        buttonEl.style.display =\n",
              "          google.colab.kernel.accessAllowed ? 'block' : 'none';\n",
              "\n",
              "        async function convertToInteractive(key) {\n",
              "          const element = document.querySelector('#df-9ceba915-56fc-481f-a2d3-6b6eb32955f1');\n",
              "          const dataTable =\n",
              "            await google.colab.kernel.invokeFunction('convertToInteractive',\n",
              "                                                     [key], {});\n",
              "          if (!dataTable) return;\n",
              "\n",
              "          const docLinkHtml = 'Like what you see? Visit the ' +\n",
              "            '<a target=\"_blank\" href=https://colab.research.google.com/notebooks/data_table.ipynb>data table notebook</a>'\n",
              "            + ' to learn more about interactive tables.';\n",
              "          element.innerHTML = '';\n",
              "          dataTable['output_type'] = 'display_data';\n",
              "          await google.colab.output.renderOutput(dataTable, element);\n",
              "          const docLink = document.createElement('div');\n",
              "          docLink.innerHTML = docLinkHtml;\n",
              "          element.appendChild(docLink);\n",
              "        }\n",
              "      </script>\n",
              "    </div>\n",
              "  </div>\n",
              "  "
            ],
            "text/plain": [
              "   article_id  ...                                             source\n",
              "0           1  ...  https://www.tennisworldusa.org/tennis/news/Mar...\n",
              "1           2  ...  http://www.tennis.com/pro-game/2018/10/copil-s...\n",
              "2           3  ...  https://scroll.in/field/899938/tennis-roger-fe...\n",
              "3           4  ...  http://www.tennis.com/pro-game/2018/10/nishiko...\n",
              "4           5  ...  https://www.express.co.uk/sport/tennis/1036101...\n",
              "\n",
              "[5 rows x 4 columns]"
            ]
          },
          "metadata": {},
          "execution_count": 12
        }
      ]
    },
    {
      "cell_type": "code",
      "source": [
        "df['article_text'][0]"
      ],
      "metadata": {
        "colab": {
          "base_uri": "https://localhost:8080/",
          "height": 178
        },
        "id": "D_vWC1zO-kar",
        "outputId": "af3e50be-f328-4c57-8076-d6c93c6bc0fb"
      },
      "execution_count": null,
      "outputs": [
        {
          "output_type": "execute_result",
          "data": {
            "application/vnd.google.colaboratory.intrinsic+json": {
              "type": "string"
            },
            "text/plain": [
              "\"Maria Sharapova has basically no friends as tennis players on the WTA Tour. The Russian player has no problems in openly speaking about it and in a recent interview she said: 'I don't really hide any feelings too much. I think everyone knows this is my job here. When I'm on the courts or when I'm on the court playing, I'm a competitor and I want to beat every single person whether they're in the locker room or across the net. So I'm not the one to strike up a conversation about the weather and know that in the next few minutes I have to go and try to win a tennis match. I'm a pretty competitive girl. I say my hellos, but I'm not sending any players flowers as well. Uhm, I'm not really friendly or close to many players. I have not a lot of friends away from the courts.' When she said she is not really close to a lot of players, is that something strategic that she is doing? Is it different on the men's tour than the women's tour? 'No, not at all. I think just because you're in the same sport doesn't mean that you have to be friends with everyone just because you're categorized, you're a tennis player, so you're going to get along with tennis players. I think every person has different interests. I have friends that have completely different jobs and interests, and I've met them in very different parts of my life. I think everyone just thinks because we're tennis players we should be the greatest of friends. But ultimately tennis is just a very small part of what we do. There are so many other things that we're interested in, that we do.' ALSO READ: Maria Sharapova reveals how tennis keeps her motivated.\""
            ]
          },
          "metadata": {},
          "execution_count": 13
        }
      ]
    },
    {
      "cell_type": "code",
      "source": [
        "from nltk.tokenize import sent_tokenize\n",
        "sentences = []\n",
        "for s in df['article_text']:\n",
        "  sentences.append(sent_tokenize(s))\n",
        "\n",
        "sentences = [y for x in sentences for y in x] # flatten list"
      ],
      "metadata": {
        "id": "Dg51lk5g-r0Y"
      },
      "execution_count": null,
      "outputs": []
    },
    {
      "cell_type": "code",
      "source": [
        "len(sentences)"
      ],
      "metadata": {
        "colab": {
          "base_uri": "https://localhost:8080/"
        },
        "id": "I-3z2PUX-y6c",
        "outputId": "6b42587a-ed15-41f6-8849-2cd797ceac24"
      },
      "execution_count": null,
      "outputs": [
        {
          "output_type": "execute_result",
          "data": {
            "text/plain": [
              "130"
            ]
          },
          "metadata": {},
          "execution_count": 15
        }
      ]
    },
    {
      "cell_type": "code",
      "source": [
        "from google.colab import drive\n",
        "drive.mount('/content/drive')\n",
        "PATH=\"drive/MyDrive/ColabNotebooks/Glove/\"\n"
      ],
      "metadata": {
        "id": "oF5GDdjD-0_i",
        "colab": {
          "base_uri": "https://localhost:8080/"
        },
        "outputId": "1d86d9f9-d24b-4a93-de31-9959a63154db"
      },
      "execution_count": null,
      "outputs": [
        {
          "output_type": "stream",
          "name": "stdout",
          "text": [
            "Mounted at /content/drive\n"
          ]
        }
      ]
    },
    {
      "cell_type": "code",
      "source": [
        "# Extract word vectors\n",
        "word_embeddings = {}\n",
        "f = open(PATH+'glove.6B.100d.txt', encoding='utf-8')\n",
        "for line in f:\n",
        "    values = line.split()\n",
        "    word = values[0]\n",
        "    coefs = np.asarray(values[1:], dtype='float32')\n",
        "    word_embeddings[word] = coefs\n",
        "f.close()"
      ],
      "metadata": {
        "id": "UmrFdK37_NFS"
      },
      "execution_count": null,
      "outputs": []
    },
    {
      "cell_type": "code",
      "source": [
        "len(word_embeddings)"
      ],
      "metadata": {
        "colab": {
          "base_uri": "https://localhost:8080/"
        },
        "id": "sHKrqlqgEFoE",
        "outputId": "cf3cf8fc-db79-43a5-a986-e39c13d4bd2d"
      },
      "execution_count": null,
      "outputs": [
        {
          "output_type": "execute_result",
          "data": {
            "text/plain": [
              "400001"
            ]
          },
          "metadata": {},
          "execution_count": 19
        }
      ]
    },
    {
      "cell_type": "code",
      "source": [
        "# remove punctuations, numbers and special characters\n",
        "clean_sentences = pd.Series(sentences).str.replace(\"[^a-zA-Z]\", \" \")\n",
        "\n",
        "# make alphabets lowercase\n",
        "clean_sentences = [s.lower() for s in clean_sentences]"
      ],
      "metadata": {
        "colab": {
          "base_uri": "https://localhost:8080/"
        },
        "id": "XlxZFRvKEJ60",
        "outputId": "1c607f1a-1d7d-4c27-cebf-7cbae9267f4f"
      },
      "execution_count": null,
      "outputs": [
        {
          "output_type": "stream",
          "name": "stderr",
          "text": [
            "/usr/local/lib/python3.7/dist-packages/ipykernel_launcher.py:2: FutureWarning: The default value of regex will change from True to False in a future version.\n",
            "  \n"
          ]
        }
      ]
    },
    {
      "cell_type": "code",
      "source": [
        "nltk.download('stopwords')"
      ],
      "metadata": {
        "colab": {
          "base_uri": "https://localhost:8080/"
        },
        "id": "fIUmQjX5EPEJ",
        "outputId": "ef85991f-b4ab-4ccf-b79e-183073c98299"
      },
      "execution_count": null,
      "outputs": [
        {
          "output_type": "stream",
          "name": "stdout",
          "text": [
            "[nltk_data] Downloading package stopwords to /root/nltk_data...\n",
            "[nltk_data]   Unzipping corpora/stopwords.zip.\n"
          ]
        },
        {
          "output_type": "execute_result",
          "data": {
            "text/plain": [
              "True"
            ]
          },
          "metadata": {},
          "execution_count": 21
        }
      ]
    },
    {
      "cell_type": "code",
      "source": [
        "from nltk.corpus import stopwords\n",
        "stop_words = stopwords.words('english')"
      ],
      "metadata": {
        "id": "6aM6T911ESNc"
      },
      "execution_count": null,
      "outputs": []
    },
    {
      "cell_type": "code",
      "source": [
        "# function to remove stopwords\n",
        "def remove_stopwords(sen):\n",
        "    sen_new = \" \".join([i for i in sen if i not in stop_words])\n",
        "    return sen_new"
      ],
      "metadata": {
        "id": "Armc9BIYEWD9"
      },
      "execution_count": null,
      "outputs": []
    },
    {
      "cell_type": "code",
      "source": [
        "# remove stopwords from the sentences\n",
        "clean_sentences = [remove_stopwords(r.split()) for r in clean_sentences]"
      ],
      "metadata": {
        "id": "ngAfiuyiEYm0"
      },
      "execution_count": null,
      "outputs": []
    },
    {
      "cell_type": "code",
      "source": [
        "# Extract word vectors\n",
        "word_embeddings = {}\n",
        "f = open(PATH+'glove.6B.100d.txt', encoding='utf-8')\n",
        "for line in f:\n",
        "    values = line.split()\n",
        "    word = values[0]\n",
        "    coefs = np.asarray(values[1:], dtype='float32')\n",
        "    word_embeddings[word] = coefs\n",
        "f.close()"
      ],
      "metadata": {
        "id": "GS50HHpcEaqP"
      },
      "execution_count": null,
      "outputs": []
    },
    {
      "cell_type": "code",
      "source": [
        "len(word_embeddings)"
      ],
      "metadata": {
        "colab": {
          "base_uri": "https://localhost:8080/"
        },
        "id": "TzjiW1APH97t",
        "outputId": "511eff27-c7a4-4bdb-c493-2c07ea3caf34"
      },
      "execution_count": null,
      "outputs": [
        {
          "output_type": "execute_result",
          "data": {
            "text/plain": [
              "400001"
            ]
          },
          "metadata": {},
          "execution_count": 35
        }
      ]
    },
    {
      "cell_type": "code",
      "source": [
        "sentence_vectors = []\n",
        "for i in clean_sentences:\n",
        "  if len(i) != 0:\n",
        "    v = sum([word_embeddings.get(w, np.zeros((100,))) for w in i.split()])/(len(i.split())+0.001)\n",
        "  else:\n",
        "    v = np.zeros((100,))\n",
        "  sentence_vectors.append(v)"
      ],
      "metadata": {
        "id": "5S76vISpEiA4"
      },
      "execution_count": null,
      "outputs": []
    },
    {
      "cell_type": "code",
      "source": [
        "len(sentence_vectors)"
      ],
      "metadata": {
        "id": "nStE4L-2INXY",
        "outputId": "6cfaf758-7292-4c30-818a-ec9ac164e636",
        "colab": {
          "base_uri": "https://localhost:8080/"
        }
      },
      "execution_count": null,
      "outputs": [
        {
          "output_type": "execute_result",
          "data": {
            "text/plain": [
              "130"
            ]
          },
          "metadata": {},
          "execution_count": 37
        }
      ]
    },
    {
      "cell_type": "code",
      "source": [
        "# similarity matrix\n",
        "sim_mat = np.zeros([len(sentences), len(sentences)])\n",
        "\n",
        "\n",
        "cos 0 = 1\n"
      ],
      "metadata": {
        "id": "pDNXjfxoEk3O"
      },
      "execution_count": null,
      "outputs": []
    },
    {
      "cell_type": "code",
      "source": [
        "from sklearn.metrics.pairwise import cosine_similarity"
      ],
      "metadata": {
        "id": "MwZ7B_0SEoXT"
      },
      "execution_count": null,
      "outputs": []
    },
    {
      "cell_type": "code",
      "source": [
        "for i in range(len(sentences)):\n",
        "  for j in range(len(sentences)):\n",
        "    if i != j:\n",
        "      sim_mat[i][j] = cosine_similarity(sentence_vectors[i].reshape(1,100), sentence_vectors[j].reshape(1,100))[0,0]\n",
        " "
      ],
      "metadata": {
        "id": "fbP5povZEqW2"
      },
      "execution_count": null,
      "outputs": []
    },
    {
      "cell_type": "code",
      "source": [
        "import networkx as nx\n",
        "\n",
        "nx_graph = nx.from_numpy_array(sim_mat)\n",
        "scores = nx.pagerank(nx_graph)"
      ],
      "metadata": {
        "id": "jcLrNwdeEwY0"
      },
      "execution_count": null,
      "outputs": []
    },
    {
      "cell_type": "code",
      "source": [
        "ranked_sentences = sorted(((scores[i],s) for i,s in enumerate(sentences)), reverse=True)"
      ],
      "metadata": {
        "id": "QZ0FRTFmFSHU"
      },
      "execution_count": null,
      "outputs": []
    },
    {
      "cell_type": "code",
      "source": [
        "ranked_sentences"
      ],
      "metadata": {
        "colab": {
          "base_uri": "https://localhost:8080/"
        },
        "id": "YlPMH-M6FW54",
        "outputId": "2db1a4c5-ed5e-44d3-9008-05a9296e4a94"
      },
      "execution_count": null,
      "outputs": [
        {
          "output_type": "execute_result",
          "data": {
            "text/plain": [
              "[(0.008542794955186749,\n",
              "  '\\x93I was on a nice trajectorythen,\\x94 Reid recalled.\\x93If I hadn\\x92t got sick, I think I could have started pushing towards the second week at the slams and then who knows.\\x94 Duringa comeback attempt some five years later, Reid added Bernard Tomic and 2018 US Open Federer slayer John Millman to his list of career scalps.'),\n",
              " (0.008485391831328045,\n",
              "  'Major players feel that a big event in late November combined with one in January before the Australian Open will mean too much tennis and too little rest.'),\n",
              " (0.00845275411352641,\n",
              "  \"So I'm not the one to strike up a conversation about the weather and know that in the next few minutes I have to go and try to win a tennis match.\"),\n",
              " (0.00844675314684656,\n",
              "  'Speaking at the Swiss Indoors tournament where he will play in Sunday\\x92s final against Romanian qualifier Marius Copil, the world number three said that given the impossibly short time frame to make a decision, he opted out of any commitment.'),\n",
              " (0.00843150816171862,\n",
              "  'Currently in ninth place, Nishikori with a win could move to within 125 points of the cut for the eight-man event in London next month.'),\n",
              " (0.008430545914355528,\n",
              "  'Exhausted after spending half his round deep in the bushes searching for my ball, as well as those of two other golfers he\\x92d never met before, our incredibly giving designated driver asked if we didn\\x92t mind going straight home after signing off so he could rest up a little before heading to work.'),\n",
              " (0.008428407510173251,\n",
              "  '\\x93I felt like the best weeks that I had to get to know players when I was playing were the Fed Cup weeks or the Olympic weeks, not necessarily during the tournaments.'),\n",
              " (0.008416201750309838,\n",
              "  \"\\x93I just felt like it really kind of changed where people were a little bit, definitely in the '90s, a lot more quiet, into themselves, and then it started to become better.\\x94 Meanwhile, Federer is hoping he can improve his service game as he hunts his ninth Swiss Indoors title this week.\"),\n",
              " (0.008407194891514173,\n",
              "  'The former Wimbledon junior champion was full of hope, excited about getting his life back together after a troubled few years and a touch-and-go battle with pancreatitis.'),\n",
              " (0.008361661958465369,\n",
              "  'He used his first break point to close out the first set before going up 3-0 in the second and wrapping up the win on his first match point.'),\n",
              " (0.0083571933311645,\n",
              "  \"The Spaniard broke Anderson twice in the second but didn't get another chance on the South African's serve in the final set.\"),\n",
              " (0.00835439097159074,\n",
              "  '\\x93I could not make a decision in that time, so I told them to do what they wanted.\\x94 The 20-time Grand Slam champion has voiced doubts about the wisdom of the one-week format to be introduced by organisers Kosmos, who have promised the International Tennis Federation up to $3 billion in prize money over the next quarter-century.'),\n",
              " (0.008332115110096542,\n",
              "  'The competition is set to feature 18 countries in the November 18-24 finals in Madrid next year, and will replace the classic home-and-away ties played four times per year for decades.'),\n",
              " (0.0083288583150029,\n",
              "  'This was designed for the future generation of players.\\x94 Argentina and Britain received wild cards to the new-look event, and will compete along with the four 2018 semi-finalists and the 12 teams who win qualifying rounds next February.'),\n",
              " (0.008323070931857555,\n",
              "  'Roger Federer has revealed that organisers of the re-launched and condensed Davis Cup gave him three days to decide if he would commit to the controversial competition.'),\n",
              " (0.008320919376761353,\n",
              "  '\\x93Now they won\\x92t even give me tickets (to the Open).\\x94 A Davis Cup pick and on the cusp of the world\\x92s 100 by 18, Reid had few other complaints - just a lingering sense of what might have been.'),\n",
              " (0.00831869827146796,\n",
              "  'The life-changing setback hit only weeks after the then-teenage wonder boy announced his arrival as a grand slam threat by throwing up all over Rod Laver Arena during a fighting five-set second-round win over Sargis Sargsian.'),\n",
              " (0.008306718971426492,\n",
              "  'Federer said earlier this month in Shanghai in that his chances of playing the Davis Cup were all but non-existent.'),\n",
              " (0.00830573214781419,\n",
              "  'Davenport enjoyed most of her success in the late 1990s and her third and final major tournament win came at the 2000 Australian Open.'),\n",
              " (0.008297627071529591,\n",
              "  'Fourteen years after sharing centre court with Roger Federer in the third round of the Australian Open, Reid was now running the counter and coaching kids - but sadly now never mine- in suburban Sydney at the Matraville tennis and squash centre run by his father Bob and beautiful mother Sandra, herselfa former professional.'),\n",
              " (0.008285806542844245,\n",
              "  'Federer had an easier time than in his only previous match against Medvedev, a three-setter at Shanghai two weeks ago.'),\n",
              " (0.008277175016259375,\n",
              "  '\\x93They only left me three days to decide,\\x94 Federer said.'),\n",
              " (0.008277135577365072,\n",
              "  \"\\x93Clearly you make your life more difficult, but still I was up 6-2, 3-1, break points, so things could have ended very quickly today, even though I didn't have the best serve percentage stats.\"),\n",
              " (0.008263920941374424,\n",
              "  '\\x93Not always, but I really feel like in the mid-2000 years there was a huge shift of the attitudes of the top players and being more friendly and being more giving, and a lot of that had to do with players like Roger coming up.'),\n",
              " (0.00825169584736319,\n",
              "  'The epic victory set-up his showdown with Federer, who would go on to win his first Australian Open.'),\n",
              " (0.008241794922180789,\n",
              "  'Kei Nishikori will try to end his long losing streak in ATP finals and Kevin Anderson will go for his second title of the year at the Erste Bank Open on Sunday.'),\n",
              " (0.008223153382174107,\n",
              "  '\\x93Full effort Nick could live out his tennis like a (Tomas) Berdych or (Jo- Wilfried) Tsonga, consistently making second week,quarters, semis, finals of slams - and then hopefully more.'),\n",
              " (0.008211491980593729,\n",
              "  'The end of the season is finally in sight, and with so many players defending\\x97or losing\\x97huge chunks of points in Singapore, Zhuhai and London, podcast co-hosts Nina Pantic and Irina Falconi discuss the art of defending points (02:14).'),\n",
              " (0.008207680531010926,\n",
              "  'Federer, 37, first broke through on tour over two decades ago and he has since gone on to enjoy a glittering career.'),\n",
              " (0.00820147724037291,\n",
              "  \"When I'm on the courts or when I'm on the court playing, I'm a competitor and I want to beat every single person whether they're in the locker room or across the net.\"),\n",
              " (0.008193202326890994,\n",
              "  'The Romanian aims for a first title after arriving at Basel without a career win over a top-10 opponent.'),\n",
              " (0.008172406776696112,\n",
              "  '\\x93But my fondest memory is probably him coming back in Spain with his father and Todd trying to order a ham, cheese and tomato sandwich in the most Aussie English I ever heard.\\x94 Among his lesser known achievements - but even more significantto me - was an injured Reid\\x92s effort to reach the final of the Manly Seaside, a prestigious Christmas-time event won backin the day by the likes of legends Rod Laver, Ken Rosewall, Frank Sedgman, John Bromwich, Lew Hoad, Neal Fraser, Fred Stolle, Evonne Goolagong and Australia\\x92s last women\\x92s Australian Open champion, Christine O\\x92Neil.'),\n",
              " (0.00817240063029513,\n",
              "  'The world No 1 has been forced to miss Spain\\x92s Davis Cup clash with France and the Asian hard court season.'),\n",
              " (0.008167807599679515,\n",
              "  \"It's a big deal because...you never forget your first.\"),\n",
              " (0.008139565159445746,\n",
              "  \"He came through two rounds of qualifying last weekend to reach the Basel main draw, including beating Zverev's older brother, Mischa.\"),\n",
              " (0.008128386773330656,\n",
              "  'Nadal\\x92s appearance in Paris is a big boost to the tournament organisers who could see Roger Federer withdraw.'),\n",
              " (0.008106134404023078,\n",
              "  \"He then dropped his serve to love, and let another match point slip in Medvedev's next service game by netting a backhand.\"),\n",
              " (0.008104748122985046,\n",
              "  'But with the ATP World Tour Finals due to begin next month, Nadal is ready to prove his fitness before the season-ending event at the 02 Arena.'),\n",
              " (0.008103837858616682,\n",
              "  'In Singapore, one of the biggest storylines (aside from the matches, of course) has been the on-court coaching debate.'),\n",
              " (0.008097663825945602,\n",
              "  'Novak Djokovic has said he will give precedence to the ATP\\x92s intended re-launch of the defunct World Team Cup in January 2020, at various Australian venues.'),\n",
              " (0.008092102415829866,\n",
              "  \"I think just because you're in the same sport doesn't mean that you have to be friends with everyone just because you're categorized, you're a tennis player, so you're going to get along with tennis players.\"),\n",
              " (0.008071448409278972,\n",
              "  \"\\x93I didn't serve very well [against first-round opponent Filip Kranjovic,\\x94 Federer said.\"),\n",
              " (0.008059049265140892,\n",
              "  \"Let's also not forget his two Grand Slam doubles triumphs this season.\"),\n",
              " (0.008048153378214268,\n",
              "  'Federer dominated the 20th-ranked Medvedev and had his first match-point chance to break serve again at 5-1.'),\n",
              " (0.008047520458887243,\n",
              "  'Nadal could then play defending champion Jack Sock in the third round before a potential quarter-final with either Borna Coric or Dominic Thiem.'),\n",
              " (0.008028159256363321,\n",
              "  'He could lose 1,400 points in the next few weeks\\x97but instead of focusing on the negative, it can all be about perspective (06:28).'),\n",
              " (0.008008313929735882,\n",
              "  'But she claims the mentality of professional tennis players slowly began to change after the new millennium.'),\n",
              " (0.008007970257198167,\n",
              "  'Anderson has a shot at a fifth career title and second of the year after winning in New York in February.'),\n",
              " (0.008002654013083522,\n",
              "  'Federer\\x92s projected route to the Paris final could also lead to matches against Kevin Anderson and Novak Djokovic.'),\n",
              " (0.007998619357053852,\n",
              "  'Two players, Stefanos Tsitsipas and Kyle Edmund, won their first career ATP titles last week (13:26).'),\n",
              " (0.007970781625211556,\n",
              "  'Hampered by a shoulder injury, Reid served under-arm - UNDER-ARM - throughout the entire tournament yet still made the decider.'),\n",
              " (0.007963643856829865,\n",
              "  '\\x93It seems pretty friendly right now,\\x94 said Davenport.'),\n",
              " (0.007958859990775108,\n",
              "  '\\x93And even though maybe we had smaller teams, I still think we kept to ourselves quite a bit.'),\n",
              " (0.007955225258937982,\n",
              "  'Nishikori leads Anderson 4-2 on career matchups, but the South African won their only previous meeting this year.'),\n",
              " (0.00795421704941932,\n",
              "  'Djokovic could play Marco Cecchinato in the second round.'),\n",
              " (0.007945943326587969,\n",
              "  'Nadal flew to Paris on Friday and footage from the Paris Masters official Twitter account shows the Spaniard smiling as he strides onto court for practice.'),\n",
              " (0.007937084791837058, 'He has lost eight straight finals since.'),\n",
              " (0.007935305806755125,\n",
              "  'A big fan and believer in the enigmatic Canberran, Reid didn\\x92t want to see Kyrgios\\x92s career slip away like his did.'),\n",
              " (0.007918422331270693,\n",
              "  'To Reid the 15-marker, just being up and at \\x91em was enough; a few bogeys and one well-made par \\x97 broomstick putter and all \\x97 vindication for his recent decision to renew his membership at nearby Bankstown.'),\n",
              " (0.007907870452644693,\n",
              "  'When she said she is not really close to a lot of players, is that something strategic that she is doing?'),\n",
              " (0.007901051481363002, 'I PLAYED golf last week with Todd Reid.'),\n",
              " (0.007894611078728048,\n",
              "  'Federer is in action at the Swiss Indoors in Basel and if he reaches the final, he could pull out of Paris in a bid to stay fresh for London.'),\n",
              " (0.007883641042051859,\n",
              "  '\\x93I think there is a really nice environment and a great atmosphere, especially between some of the veteran players helping some of the younger players out.'),\n",
              " (0.007882752483309403,\n",
              "  \"It's no secret that Jack Sock has struggled on the singles court this year (his record is 7-19).\"),\n",
              " (0.007863842596753448,\n",
              "  'The Paris Masters draw has been made and Nadal will start his campaign on Tuesday or Wednesday against either Fernando Verdasco or Jeremy Chardy.'),\n",
              " (0.007851235866197234,\n",
              "  '\\x93Time will tell for Nick, but he\\x92s still young.\\x94 Todd Reid was still young, too.'),\n",
              " (0.007841146279838026,\n",
              "  '\\x93I don\\x92t like being under that kind of pressure,\\x94 Federer said of the deadline Kosmos handed him.'),\n",
              " (0.007831540116369684,\n",
              "  \"The Russian player has no problems in openly speaking about it and in a recent interview she said: 'I don't really hide any feelings too much.\"),\n",
              " (0.007830369865854182,\n",
              "  'But ultimately tennis is just a very small part of what we do.'),\n",
              " (0.00782749428805655,\n",
              "  '\\x93He had one of the best backhands, I think, going around,\\x94 Millman told AAP.'),\n",
              " (0.007826652614892215,\n",
              "  '\\x93I was their golden boy then,\\x94 he said of his relationship with Tennis Australia.'),\n",
              " (0.007823200715761182,\n",
              "  'Nadal has not played tennis since he was forced to retire from the US Open semi-finals against Juan Martin Del Porto with a knee injury.'),\n",
              " (0.007822156449794023,\n",
              "  'He\\x92d backed up his last-32 showingat Melbourne Park with a string of wins over elites including French Open champion and then world No.9 Gaston Gaudio and Roland Garros runner-up Martin Verkerk in 2004 before illness struck.'),\n",
              " (0.00782168976165672,\n",
              "  '\\x93I\\x92m pleased with that,\\x94 he said after grinding out an eight-over-par front nine at the not-so-royal Northbridge club in Sydney and smashing down an egg- and-bacon roll at the halfway house.'),\n",
              " (0.007804900466749098, '\\x93I was always happy to work hard,\\x94 he said.'),\n",
              " (0.007787226647058583,\n",
              "  'British No 1 Kyle Edmund is the 12th seed in Paris and will get underway in round two against either Karen Khachanov or Filip Krajinovic.'),\n",
              " (0.007779816060576282, 'Copil has two after also beating No.'),\n",
              " (0.007778042506837406,\n",
              "  'The 20-time Grand Slam winner is chasing his 99th ATP title at the Swiss Indoors this week and he faces Jan-Lennard Struff in the second round on Thursday (6pm BST).'),\n",
              " (0.007764283058477385,\n",
              "  '\\x93I never got over what happened to me when I was 19,\\x94 he told AAP last week.'),\n",
              " (0.007751997088735694,\n",
              "  \"Uhm, I'm not really friendly or close to many players.\"),\n",
              " (0.007738587548051887,\n",
              "  'Not because he\\x92d been out on a bender or anything \\x97 those days were in the past.'),\n",
              " (0.007718831354979085,\n",
              "  \"I think everyone just thinks because we're tennis players we should be the greatest of friends.\"),\n",
              " (0.007714426522118057,\n",
              "  'Nina and Irina give their opinions on what coaching should look like in the future, on both tours (18:55).'),\n",
              " (0.007660171361884334,\n",
              "  'Irina looks back at her WTA title win in Bogota in 2016, and tells an unforgettable story about her semifinal drama (14:04).'),\n",
              " (0.007624420405385909,\n",
              "  'Seeking a ninth title at his hometown event, and a 99th overall, Federer will play 93th-ranked Marius Copil on Sunday.'),\n",
              " (0.007580250787412347,\n",
              "  'But as it stands, Federer is in the draw and is scheduled to face either former world No 3 Milos Raonic or Jo-Wilfried Tsonga in the second round.'),\n",
              " (0.007573028127570849, \"I have not a lot of friends away from the courts.'\"),\n",
              " (0.007548487240371087,\n",
              "  \"Is it different on the men's tour than the women's tour?\"),\n",
              " (0.007541137581956528,\n",
              "  'He picked me up at 5.30am, half an hour early because he couldn\\x92t sleep.'),\n",
              " (0.007525299993850116,\n",
              "  'Quite the fall from grace for a prodigious talent once afforded a 3000-word spread in The New York Times.'),\n",
              " (0.0075121043108905845,\n",
              "  'Copil fired 26 aces past Zverev and never dropped serve, clinching after 2 1/2 hours with a forehand volley winner to break Zverev for the second time in the semifinal.'),\n",
              " (0.007497922256165903,\n",
              "  'Nishikori held serve throughout against Kukushkin, who came through qualifying.'),\n",
              " (0.007497863289037118,\n",
              "  \"I have friends that have completely different jobs and interests, and I've met them in very different parts of my life.\"),\n",
              " (0.007497010977798355,\n",
              "  'ALSO READ: Maria Sharapova reveals how tennis keeps her motivated.'),\n",
              " (0.00749208497320151,\n",
              "  'To most players of his rare sporting gifts, such a modest return would be unacceptable.'),\n",
              " (0.007480445540237163,\n",
              "  \"\\x93But maybe that's exactly what caught up to me eventually.\"),\n",
              " (0.007457504942100917,\n",
              "  'Copil upset expectations of a Federer final against Alexander Zverev in a 6-3, 6-7 (6), 6-4 win over the fifth-ranked German in the earlier semifinal.'),\n",
              " (0.007457165534154932,\n",
              "  \"I say my hellos, but I'm not sending any players flowers as well.\"),\n",
              " (0.007453170977000054,\n",
              "  '\\x93Full effort he wouldn\\x92t fail,\\x94 Reid said of Kyrgios.'),\n",
              " (0.00740593947483973, 'I think every person has different interests.'),\n",
              " (0.007371275782361882,\n",
              "  'With a victory on Sunday, Anderson will qualify for the ATP Finals.'),\n",
              " (0.007369033366415572,\n",
              "  'Reid, too, was earmarked for the very top, only for injuries and illness to cruel his career.'),\n",
              " (0.007365269067688038,\n",
              "  'Against Verdasco, Anderson hit nine of his 19 aces in the opening set.'),\n",
              " (0.007360940146942442, '\\x93I highly doubt it, of course.'),\n",
              " (0.007358455595782522, 'This is where the first rounds can be tricky.\\x94'),\n",
              " (0.007347031302212774, 'We\\x92ll see what happens,\\x94 he said.'),\n",
              " (0.0073462211037983016,\n",
              "  'Maria Sharapova has basically no friends as tennis players on the WTA Tour.'),\n",
              " (0.007309037357264443,\n",
              "  'BASEL, Switzerland (AP) \\x97 Roger Federer advanced to the 14th Swiss Indoors final of his career by beating seventh-seeded Daniil Medvedev 6-1, 6-4 on Saturday.'),\n",
              " (0.00727500872330333, 'Tragically, his time ran out.'),\n",
              " (0.007256048872687512, \"It's just getting used to it.\"),\n",
              " (0.007241289285808077,\n",
              "  'On the up again after taking salvation in the bottle, Reid was found dead on Tuesday aged just 34.'),\n",
              " (0.00723089566015179,\n",
              "  'He had hoped the mercurial Nick Kyrgios would do the same.'),\n",
              " (0.007224796798166176,\n",
              "  '\\x93I think I was misfiring the corners, I was not hitting the lines enough.'),\n",
              " (0.007188733386284722, 'I think everyone knows this is my job here.'),\n",
              " (0.007182471781589185,\n",
              "  \"A winner of 11 ATP events, Nishikori hasn't triumphed since winning in Memphis in February 2016.\"),\n",
              " (0.0071654599159894465,\n",
              "  \"There are so many other things that we're interested in, that we do.'\"),\n",
              " (0.007090915310902935,\n",
              "  'With sponsors and the world at his feet, Reid was 14 then and being mentored by Nick Bollettieri, who fashioned the likes of Andre Agassi, Maria Sharapova, Monica Seles and Jim Courier into world No.1s.'),\n",
              " (0.00699765925234159,\n",
              "  'Kosmos is headed by Barcelona footballer Gerard Pique, who is hoping fellow Spaniard Rafael Nadal will play in the upcoming event.'),\n",
              " (0.006900754141546969, \"I'm a pretty competitive girl.\"),\n",
              " (0.0067423861242275306,\n",
              "  'He clinched on his fourth chance when Medvedev netted from the baseline.'),\n",
              " (0.006717950563982474,\n",
              "  'Just as his senior career got legs, Reid was derailed by a debilitating bout of glandular fever.'),\n",
              " (0.006687159153915035,\n",
              "  \"\\x93It's a very pleasant atmosphere, I'd have to say, around the locker rooms.\"),\n",
              " (0.006622587937842501,\n",
              "  '\\x93I didn\\x92t to have time to consult with all the people I had to consult.'),\n",
              " (0.006569701984132575,\n",
              "  'The fifth-seeded Nishikori reached his third final of 2018 after beating Mikhail Kukushkin of Kazakhstan 6-4, 6-3 in the semifinals.'),\n",
              " (0.00646241788913395,\n",
              "  '\\x93I don\\x92t think this was designed for me, anyhow.'),\n",
              " (0.00611980498997162,\n",
              "  'The second-seeded Anderson defeated Fernando Verdasco 6-3, 3-6, 6-4.'),\n",
              " (0.006086319920081299, '6 Marin Cilic in the second round.'),\n",
              " (0.005319519765924782, 'Or hadn\\x92t slept, to be specific.'),\n",
              " (0.005098539717448402, 'Tennis giveth, and tennis taketh away.'),\n",
              " (0.00116144201139666, \"'No, not at all.\")]"
            ]
          },
          "metadata": {},
          "execution_count": 32
        }
      ]
    },
    {
      "cell_type": "code",
      "source": [
        "# Extract top 10 sentences as the summary\n",
        "for i in range(10):\n",
        "  print(ranked_sentences[i][1])"
      ],
      "metadata": {
        "colab": {
          "base_uri": "https://localhost:8080/"
        },
        "id": "gmvViyL2FZnt",
        "outputId": "d02c33c6-9dbb-4bc5-89a6-75785eaed58a"
      },
      "execution_count": null,
      "outputs": [
        {
          "output_type": "stream",
          "name": "stdout",
          "text": [
            "I was on a nice trajectorythen, Reid recalled.If I hadnt got sick, I think I could have started pushing towards the second week at the slams and then who knows. Duringa comeback attempt some five years later, Reid added Bernard Tomic and 2018 US Open Federer slayer John Millman to his list of career scalps.\n",
            "Major players feel that a big event in late November combined with one in January before the Australian Open will mean too much tennis and too little rest.\n",
            "So I'm not the one to strike up a conversation about the weather and know that in the next few minutes I have to go and try to win a tennis match.\n",
            "Speaking at the Swiss Indoors tournament where he will play in Sundays final against Romanian qualifier Marius Copil, the world number three said that given the impossibly short time frame to make a decision, he opted out of any commitment.\n",
            "Currently in ninth place, Nishikori with a win could move to within 125 points of the cut for the eight-man event in London next month.\n",
            "Exhausted after spending half his round deep in the bushes searching for my ball, as well as those of two other golfers hed never met before, our incredibly giving designated driver asked if we didnt mind going straight home after signing off so he could rest up a little before heading to work.\n",
            "I felt like the best weeks that I had to get to know players when I was playing were the Fed Cup weeks or the Olympic weeks, not necessarily during the tournaments.\n",
            "I just felt like it really kind of changed where people were a little bit, definitely in the '90s, a lot more quiet, into themselves, and then it started to become better. Meanwhile, Federer is hoping he can improve his service game as he hunts his ninth Swiss Indoors title this week.\n",
            "The former Wimbledon junior champion was full of hope, excited about getting his life back together after a troubled few years and a touch-and-go battle with pancreatitis.\n",
            "He used his first break point to close out the first set before going up 3-0 in the second and wrapping up the win on his first match point.\n"
          ]
        }
      ]
    },
    {
      "cell_type": "code",
      "source": [
        ""
      ],
      "metadata": {
        "id": "UtlcHa3PGfY3"
      },
      "execution_count": null,
      "outputs": []
    }
  ]
}