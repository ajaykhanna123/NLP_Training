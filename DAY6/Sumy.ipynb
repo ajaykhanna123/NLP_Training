{
  "nbformat": 4,
  "nbformat_minor": 0,
  "metadata": {
    "colab": {
      "name": "Sumy.ipynb",
      "provenance": []
    },
    "kernelspec": {
      "name": "python3",
      "display_name": "Python 3"
    },
    "language_info": {
      "name": "python"
    }
  },
  "cells": [
    {
      "cell_type": "code",
      "execution_count": null,
      "metadata": {
        "colab": {
          "base_uri": "https://localhost:8080/"
        },
        "id": "GEHUEDXtJApw",
        "outputId": "16d59c70-daa7-49bc-e871-6114dd3547c3"
      },
      "outputs": [
        {
          "output_type": "stream",
          "name": "stdout",
          "text": [
            "Collecting sumy\n",
            "  Downloading sumy-0.9.0-py2.py3-none-any.whl (87 kB)\n",
            "\u001b[?25l\r\u001b[K     |███▊                            | 10 kB 25.5 MB/s eta 0:00:01\r\u001b[K     |███████▌                        | 20 kB 30.0 MB/s eta 0:00:01\r\u001b[K     |███████████▏                    | 30 kB 19.7 MB/s eta 0:00:01\r\u001b[K     |███████████████                 | 40 kB 13.2 MB/s eta 0:00:01\r\u001b[K     |██████████████████▋             | 51 kB 5.9 MB/s eta 0:00:01\r\u001b[K     |██████████████████████▍         | 61 kB 6.9 MB/s eta 0:00:01\r\u001b[K     |██████████████████████████      | 71 kB 7.5 MB/s eta 0:00:01\r\u001b[K     |█████████████████████████████▉  | 81 kB 8.4 MB/s eta 0:00:01\r\u001b[K     |████████████████████████████████| 87 kB 4.4 MB/s \n",
            "\u001b[?25hRequirement already satisfied: nltk>=3.0.2 in /usr/local/lib/python3.7/dist-packages (from sumy) (3.2.5)\n",
            "Requirement already satisfied: docopt<0.7,>=0.6.1 in /usr/local/lib/python3.7/dist-packages (from sumy) (0.6.2)\n",
            "Collecting pycountry>=18.2.23\n",
            "  Downloading pycountry-22.1.10.tar.gz (10.1 MB)\n",
            "\u001b[K     |████████████████████████████████| 10.1 MB 13.4 MB/s \n",
            "\u001b[?25hCollecting breadability>=0.1.20\n",
            "  Downloading breadability-0.1.20.tar.gz (32 kB)\n",
            "Requirement already satisfied: requests>=2.7.0 in /usr/local/lib/python3.7/dist-packages (from sumy) (2.23.0)\n",
            "Requirement already satisfied: chardet in /usr/local/lib/python3.7/dist-packages (from breadability>=0.1.20->sumy) (3.0.4)\n",
            "Requirement already satisfied: lxml>=2.0 in /usr/local/lib/python3.7/dist-packages (from breadability>=0.1.20->sumy) (4.2.6)\n",
            "Requirement already satisfied: six in /usr/local/lib/python3.7/dist-packages (from nltk>=3.0.2->sumy) (1.15.0)\n",
            "Requirement already satisfied: setuptools in /usr/local/lib/python3.7/dist-packages (from pycountry>=18.2.23->sumy) (57.4.0)\n",
            "Requirement already satisfied: certifi>=2017.4.17 in /usr/local/lib/python3.7/dist-packages (from requests>=2.7.0->sumy) (2021.10.8)\n",
            "Requirement already satisfied: idna<3,>=2.5 in /usr/local/lib/python3.7/dist-packages (from requests>=2.7.0->sumy) (2.10)\n",
            "Requirement already satisfied: urllib3!=1.25.0,!=1.25.1,<1.26,>=1.21.1 in /usr/local/lib/python3.7/dist-packages (from requests>=2.7.0->sumy) (1.24.3)\n",
            "Building wheels for collected packages: breadability, pycountry\n",
            "  Building wheel for breadability (setup.py) ... \u001b[?25l\u001b[?25hdone\n",
            "  Created wheel for breadability: filename=breadability-0.1.20-py2.py3-none-any.whl size=21712 sha256=96b8ef485dac912b1bfae7e3d0a54ab40c505da8afcb499c9c07963af5ec895b\n",
            "  Stored in directory: /root/.cache/pip/wheels/d4/bf/51/81d27ad638e1a6dca4f362ecc33d1e2c764b8ea7ec751b8fc1\n",
            "  Building wheel for pycountry (setup.py) ... \u001b[?25l\u001b[?25hdone\n",
            "  Created wheel for pycountry: filename=pycountry-22.1.10-py2.py3-none-any.whl size=10595784 sha256=7d5c24800e49d0b15e688ba349450a333e6d78949b48b34b3b88f6e4553b8a91\n",
            "  Stored in directory: /root/.cache/pip/wheels/f7/8f/9c/b070d7376caf2beb0685bf72578106b2fd57019ed57d84f126\n",
            "Successfully built breadability pycountry\n",
            "Installing collected packages: pycountry, breadability, sumy\n",
            "Successfully installed breadability-0.1.20 pycountry-22.1.10 sumy-0.9.0\n"
          ]
        }
      ],
      "source": [
        "pip install sumy"
      ]
    },
    {
      "cell_type": "code",
      "source": [
        "#Plain text parsers since we are parsing through text\n",
        "from sumy.parsers.plaintext import PlaintextParser\n",
        "\n",
        "#for tokenization\n",
        "from sumy.nlp.tokenizers import Tokenizer"
      ],
      "metadata": {
        "id": "4Gns_zBAJDtR"
      },
      "execution_count": null,
      "outputs": []
    },
    {
      "cell_type": "code",
      "source": [
        "import bs4 as bs\n",
        "import urllib.request\n",
        "import re\n",
        "\n",
        "\n",
        "scraped_data = urllib.request.urlopen('https://en.wikipedia.org/wiki/Severe_acute_respiratory_syndrome_coronavirus_2')\n",
        "article = scraped_data.read()\n",
        "\n",
        "parsed_article = bs.BeautifulSoup(article,'lxml')\n",
        "\n",
        "paragraphs = parsed_article.find_all('p')\n",
        "\n",
        "article_text = \"\"\n",
        "\n",
        "for p in paragraphs:\n",
        "    article_text += p.text"
      ],
      "metadata": {
        "id": "NGS7Gf5jJJok"
      },
      "execution_count": null,
      "outputs": []
    },
    {
      "cell_type": "code",
      "source": [
        "article_text"
      ],
      "metadata": {
        "colab": {
          "base_uri": "https://localhost:8080/",
          "height": 1000
        },
        "id": "I4JDjkYKLU15",
        "outputId": "6e21814f-581f-44a4-d082-e6a2ee5b7384"
      },
      "execution_count": null,
      "outputs": [
        {
          "output_type": "execute_result",
          "data": {
            "application/vnd.google.colaboratory.intrinsic+json": {
              "type": "string"
            },
            "text/plain": [
              "'\\n2020\\n2021\\n2022\\nBy conveyance\\nNational responses\\nVaccines\\nVaccine candidates\\nOther variants\\nBy country\\nSociety\\nSevere acute respiratory syndrome coronavirus 2 (SARS‑CoV‑2)[2] is a strain of coronavirus that causes COVID-19 (coronavirus disease 2019), the respiratory illness responsible for the ongoing COVID-19 pandemic.[3] The virus previously had a provisional name, 2019 novel coronavirus (2019-nCoV),[4][5][6][7] and has also been called human coronavirus 2019 (HCoV-19 or hCoV-19).[8][9][10][11]  First identified in the city of Wuhan, Hubei, China, the World Health Organization declared the outbreak a Public Health Emergency of International Concern on 30 January 2020, and a pandemic on 11 March 2020.[12][13] SARS‑CoV‑2 is a positive-sense single-stranded RNA virus[14] that is contagious in humans.[15] As described by the US National Institutes of Health, it is the successor to SARS-CoV-1, the virus that caused the 2002–2004 SARS outbreak.[16]\\nSARS‑CoV‑2 is a virus of the species severe acute respiratory syndrome–related coronavirus (SARSr-CoV).[2] It is of zoonotic origins and has close genetic similarity to bat coronaviruses, suggesting it emerged from a bat-borne virus.[9][17] Research is ongoing as to whether SARS‑CoV‑2 came directly from bats or indirectly through any intermediate hosts.[18] The virus shows little genetic diversity, indicating that the spillover event introducing SARS‑CoV‑2 to humans is likely to have occurred in late 2019.[19]\\nEpidemiological studies estimate that, in the December 2019 – September 2020 period, each infection resulted in an average of 2.4 to 3.4 new ones when no members of the community are immune and no preventive measures are taken.[20] However, some subsequent variants have become more infectious.[21] The virus primarily spreads between people through close contact and via aerosols and respiratory droplets that are exhaled when talking, breathing, or otherwise exhaling, as well as those produced from coughs or sneezes.[22][23] It enters human cells by binding to angiotensin-converting enzyme 2 (ACE2), a membrane protein that regulates the renin–angiotensin system.[24][25]\\nDuring the initial outbreak in Wuhan, China, various names were used for the virus; some names used by different sources included \"the coronavirus\" or \"Wuhan coronavirus\".[26][27] In January 2020, the World Health Organization recommended \"2019 novel coronavirus\" (2019-nCov)[5][28] as the provisional name for the virus. This was in accordance with WHO\\'s 2015 guidance[29] against using geographical locations, animal species, or groups of people in disease and virus names.[30][31]\\nOn 11 February 2020, the International Committee on Taxonomy of Viruses adopted the official name \"severe acute respiratory syndrome coronavirus 2\" (SARS‑CoV‑2).[32] To avoid confusion with the disease SARS, the WHO sometimes refers to SARS‑CoV‑2 as \"the COVID-19 virus\" in public health communications[33][34] and the name HCoV-19 was included in some research articles.[8][9][10] Referring to COVID-19 as the \"Wuhan virus\" has been described as dangerous by WHO officials, and as xenophobic by University of California at Berkeley Asian American studies lecturer Harvey Dong.[35][36][37]\\nHuman-to-human transmission of SARS‑CoV‑2 was confirmed on 20 January 2020 during the COVID-19 pandemic.[15][38][39][40] Transmission was initially assumed to occur primarily via respiratory droplets from coughs and sneezes within a range of about 1.8 metres (6\\xa0ft).[41][42] Laser light scattering experiments suggest that speaking is an additional mode of transmission[43][44] and a far-reaching[45] and under-researched[46] one, indoors, with little air flow.[47][48] Other studies have suggested that the virus may be airborne as well, with aerosols potentially being able to transmit the virus.[49][50][51] During human-to-human transmission, between 200 and 800 infectious SARS‑CoV‑2 virions are thought to initiate a new infection.[52][53][54] If confirmed, aerosol transmission has biosafety implications because a major concern associated with the risk of working with emerging viruses in the laboratory is the generation of aerosols from various laboratory activities which are not immediately recognizable and may affect other scientific personnel.[55] Indirect contact via contaminated surfaces is another possible cause of infection.[56] Preliminary research indicates that the virus may remain viable on plastic (polypropylene) and stainless steel (AISI 304) for up to three days, but it does not survive on cardboard for more than one day or on copper for more than four hours.[10] The virus is inactivated by soap, which destabilizes its lipid bilayer.[57][58] Viral RNA has also been found in stool samples and semen from infected individuals.[59][60]\\nThe degree to which the virus is infectious during the incubation period is uncertain, but research has indicated that the pharynx reaches peak viral load approximately four days after infection[61][62] or in the first week of symptoms and declines thereafter.[63] The duration of SARS-CoV-2 RNA shedding is generally between 3 and 46 days after symptom onset.[64]\\nA study by a team of researchers from the University of North Carolina found that the nasal cavity is seemingly the dominant initial site of infection, with subsequent aspiration-mediated virus-seeding into the lungs in SARS‑CoV‑2 pathogenesis.[65] They found that there was an infection gradient from high in proximal towards low in distal pulmonary epithelial cultures, with a focal infection in ciliated cells and type 2 pneumocytes in the airway and alveolar regions respectively.[65]\\nStudies have identified a range of animals—such as cats, ferrets, hamsters, non-human primates, minks, tree shrews, raccoon dogs, fruit bats, and rabbits—that are susceptible and permissive to SARS-CoV-2 infection.[66][67][68] Some institutions have advised that those infected with SARS‑CoV‑2 restrict their contact with animals.[69][70]\\nOn 1\\xa0February 2020, the World Health Organization (WHO) indicated that \"transmission from asymptomatic cases is likely not a major driver of transmission\".[71] One meta-analysis found that 17% of infections are asymptomatic, and asymptomatic individuals were 42% less likely to transmit the virus.[72]\\nHowever, an epidemiological model of the beginning of the outbreak in China suggested that \"pre-symptomatic shedding may be typical among documented infections\" and that subclinical infections may have been the source of a majority of infections.[73] That may explain how out of 217 on board a cruise liner that docked at Montevideo, only 24 of 128 who tested positive for viral RNA showed symptoms.[74] Similarly, a study of ninety-four patients hospitalized in January and February 2020 estimated patients shed the most virus two to three days before symptoms appear and that \"a substantial proportion of transmission probably occurred before first symptoms in the index case\".[75]\\nThere is uncertainty about reinfection and long-term immunity.[76] It is not known how common reinfection is, but reports have indicated that it is occurring with variable severity.[76]\\nThe first reported case of reinfection was a 33-year-old man from Hong Kong who first tested positive on 26 March 2020, was discharged on 15 April 2020 after two negative tests, and tested positive again on 15 August 2020 (142 days later), which was confirmed by whole-genome sequencing showing that the viral genomes between the episodes belong to different clades.[77] The findings had the implications that herd immunity may not eliminate the virus if reinfection is not an uncommon occurrence and that vaccines may not be able to provide lifelong protection against the virus.[77]\\nAnother case study described a 25-year-old man from Nevada who tested positive for SARS‑CoV‑2 on 18 April 2020 and on 5 June 2020 (separated by two negative tests). Since genomic analyses showed significant genetic differences between the SARS‑CoV‑2 variant sampled on those two dates, the case study authors determined this was a reinfection.[78] The man\\'s second infection was symptomatically more severe than the first infection, but the mechanisms that could account for this are not known.[78]\\n\\nThe first known infections from SARS‑CoV‑2 were discovered in Wuhan, China.[17] The original source of viral transmission to humans remains unclear, as does whether the virus became pathogenic before or after the spillover event.[9][19][79] Because many of the early infectees were workers at the Huanan Seafood Market,[80][81] it has been suggested that the virus might have originated from the market.[9][82] However, other research indicates that visitors may have introduced the virus to the market, which then facilitated rapid expansion of the infections.[19][83] A March 2021 WHO-convened report stated that human spillover via an intermediate animal host was the most likely explanation, with direct spillover from bats next most likely. Introduction through the food supply chain and the Huanan Seafood Market was considered another possible, but less likely, explanation.[84] An analysis in November 2021, however, said that the earliest-known case had been misidentified and that the preponderance of early cases linked to the Huanan Market argued for it being the source.[85]\\nFor a virus recently acquired through a cross-species transmission, rapid evolution is expected.[86] The mutation rate estimated from early cases of SARS-CoV-2 was of 6.54×10−4 per site per year.[84] Coronaviruses in general have high genetic plasticity,[87] but SARS-CoV-2\\'s viral evolution is slowed by the RNA proofreading capability of its replication machinery.[88] For comparison, the viral mutation rate in vivo of SARS-CoV-2 has been found to be lower than that of influenza.[89]\\nResearch into the natural reservoir of the virus that caused the 2002–2004 SARS outbreak has resulted in the discovery of many SARS-like bat coronaviruses, most originating in horseshoe bats. Phylogenetic analysis indicates that samples taken from Rhinolophus sinicus show a resemblance of 80% to SARS‑CoV‑2.[90][91][92] Phylogenetic analysis also indicates that a virus from Rhinolophus affinis, collected in Yunnan province and designated RaTG13, has a 96.1% resemblance to SARS‑CoV‑2.[17][93] This sequence was the closest known to SARS-CoV-2 at the time of its identification,[84] but it is not its direct ancestor.[94] Other closely-related sequences were also identified in samples from local bat populations.[95]\\nBats are considered the most likely natural reservoir of SARS‑CoV‑2.[84][96] Differences between the bat coronavirus and SARS‑CoV‑2 suggest that humans may have been infected via an intermediate host;[82] although the source of introduction into humans remains unknown.[97][98]\\nAlthough the role of pangolins as an intermediate host was initially posited (a study published in July 2020 suggested that pangolins are an intermediate host of SARS‑CoV‑2-like coronaviruses[99][100]), subsequent studies have not substantiated their contribution to the spillover.[84] Evidence against this hypothesis includes the fact that pangolin virus samples are too distant to SARS-CoV-2: isolates obtained from pangolins seized in Guangdong were only 92% identical in sequence to the SARS‑CoV‑2 genome (matches above 90 percent may sound high, but in genomic terms it is a wide evolutionary gap[101]). In addition, despite similarities in a few critical amino acids,[102] pangolin virus samples exhibit poor binding to the human ACE2 receptor.[103]\\nSARS‑CoV‑2 belongs to the broad family of viruses known as coronaviruses.[27] It is a positive-sense single-stranded RNA (+ssRNA) virus, with a single linear RNA segment. Coronaviruses infect humans, other mammals, including livestock and companion animals, and avian species.[104] Human coronaviruses are capable of causing illnesses ranging from the common cold to more severe diseases such as Middle East respiratory syndrome (MERS, fatality rate ~34%). SARS-CoV-2 is the seventh known coronavirus to infect people, after 229E, NL63, OC43, HKU1, MERS-CoV, and the original SARS-CoV.[105]\\nLike the SARS-related coronavirus implicated in the 2003 SARS outbreak, SARS‑CoV‑2 is a member of the subgenus Sarbecovirus (beta-CoV lineage B).[106][107] Coronaviruses undergo frequent recombination.[108] The mechanism of recombination in unsegmented RNA viruses such as SARS-CoV-2 is generally by copy-choice replication, in which gene material switches from one RNA template molecule to another during replication.[109] SARS-CoV-2 RNA sequence is approximately 30,000 bases in length,[110] relatively long for a coronavirus (which in turn carry the largest genomes among all RNA families)[111] Its genome consists nearly entirely of protein-coding sequences, a trait shared with other coronaviruses.[108]\\nA distinguishing feature of SARS‑CoV‑2 is its incorporation of a polybasic site cleaved by furin,[102] which appears to be an important element enhancing its virulence.[112] It was suggested that the acquisition of the furin-cleavage site in the SARS-CoV-2 S protein was essential for zoonotic transfer to humans.[113] The furin protease recognizes the canonical peptide sequence RX[R/K] R↓X where the cleavage site is indicated by a down arrow and X is any amino acid.[114][115] In SARS-CoV-2 the recognition site is formed by the incorporated 12 codon nucleotide sequence CCT CGG CGG GCA which corresponds to the amino acid sequence P RR A.[116] This sequence is upstream of an arginine and serine which forms the S1/S2 cleavage site (P RR A R↓S) of the spike protein.[117] Although such sites are a common naturally-occurring feature of other viruses within the Subfamily Orthocoronavirinae,[116] it appears in few other viruses from the Beta-CoV genus,[118] and it is unique among members of its subgenus for such a site.[102] The furin cleavage site PRRAR↓ is identical to that of the feline coronavirus, an alphacoronavirus 1 strain.[119]\\nViral genetic sequence data can provide critical information about whether viruses separated by time and space are likely to be epidemiologically linked.[120] With a sufficient number of sequenced genomes, it is possible to reconstruct a phylogenetic tree of the mutation history of a family of viruses. By 12 January 2020, five genomes of SARS‑CoV‑2 had been isolated from Wuhan and reported by the Chinese Center for Disease Control and Prevention (CCDC) and other institutions;[110][121] the number of genomes increased to 42 by 30 January 2020.[122] A phylogenetic analysis of those samples showed they were \"highly related with at most seven mutations relative to a common ancestor\", implying that the first human infection occurred in November or December 2019.[122] Examination of the topology of the phylogenetic tree at the start of the pandemic also found high similarities between human isolates.[123]  As of 21\\xa0August\\xa02021,[update] 3,422 SARS‑CoV‑2 genomes, belonging to 19 strains, sampled on all continents except Antarctica were publicly available.[124]\\nOn 11 February 2020, the International Committee on Taxonomy of Viruses announced that according to existing rules that compute hierarchical relationships among coronaviruses based on five conserved sequences of nucleic acids, the differences between what was then called 2019-nCoV and the virus from the 2003 SARS outbreak were insufficient to make them separate viral species. Therefore, they identified 2019-nCoV as a virus of Severe acute respiratory syndrome–related coronavirus.[125]\\nIn July 2020, scientists reported that a more infectious SARS‑CoV‑2 variant with spike protein variant G614 has replaced D614 as the dominant form in the pandemic.[126][127]\\nCoronavirus genomes and subgenomes encode six open reading frames (ORFs).[128] In October 2020, researchers discovered a possible overlapping gene named ORF3d, in the SARS‑CoV‑2 genome. It is unknown if the protein produced by ORF3d has any function, but it provokes a strong immune response. ORF3d has been identified before, in a variant of coronavirus that infects pangolins.[129][130]\\nA phylogenetic tree based on whole-genome sequences of SARS-CoV-2 and related coronaviruses is:[131][132]\\n(Bat) Rc-o319, 81% to SARS-CoV-2, Rhinolophus cornutus, Iwate, Japan[133]\\nBat SL-ZXC21, 88% to SARS-CoV-2, Rhinolophus pusillus, Zhoushan, Zhejiang[134]\\nBat SL-ZC45, 88% to SARS-CoV-2, Rhinolophus pusillus, Zhoushan, Zhejiang[134]\\nPangolin SARSr-CoV-GX, 89% to SARS-CoV-2, Manis javanica, smuggled from Southeast Asia[135]\\nPangolin SARSr-CoV-GD, 91% to SARS-CoV-2, Manis javanica, smuggled from Southeast Asia[136]\\nBat RshSTT182, 92.6% to SARS-CoV-2, Rhinolophus shameli, Steung Treng, Cambodia[137]\\nBat RshSTT200, 92.6% to SARS-CoV-2, Rhinolophus shameli, Steung Treng, Cambodia[137]\\n(Bat) RacCS203, 91.5% to SARS-CoV-2, Rhinolophus acuminatus, Chachoengsao, Thailand[132]\\n(Bat) RmYN02, 93.3% to SARS-CoV-2, Rhinolophus malayanus, Mengla, Yunnan[138]\\n(Bat) RpYN06, 94.4% to SARS-CoV-2, Rhinolophus pusillus, Xishuangbanna, Yunnan[131]\\n(Bat) RaTG13, 96.1% to SARS-CoV-2, Rhinolophus affinis, Mojiang, Yunnan\\nSARS-CoV-2\\nSARS-CoV-1, 79% to SARS-CoV-2\\n\\nThere are many thousands of variants of SARS-CoV-2, which can be grouped into the much larger clades.[139] Several different clade nomenclatures have been proposed. Nextstrain divides the variants into five clades (19A, 19B, 20A, 20B, and 20C), while GISAID divides them into seven (L, O, V, S, G, GH, and GR).[140]\\nSeveral notable variants of SARS-CoV-2 emerged in late 2020. The World Health Organization has currently declared five variants of concern, which are as follows:[141]\\nOther notable variants include 6 other WHO-designated variants under investigation and Cluster 5, which emerged among mink in Denmark and resulted in a mink euthanasia campaign rendering it virtually extinct.[142]\\nEach SARS-CoV-2 virion is 60–140 nanometres (2.4×10−6–5.5×10−6\\xa0in) in diameter;[105][81] its mass within the global human populace has been estimated as being between 0.1 and 1.0\\xa0kg.[143] Like other coronaviruses, SARS-CoV-2 has four structural proteins, known as the S (spike), E (envelope), M (membrane), and N (nucleocapsid) proteins; the N protein holds the RNA genome, and the S, E, and M proteins together create the viral envelope.[144] Coronavirus S proteins are glycoproteins and also type I membrane proteins (membranes containing a single transmembrane domain oriented on the extracellular side).[113] They are divided into two functional parts (S1 and S2).[104] In SARS-CoV-2, the spike protein, which has been imaged at the atomic level using cryogenic electron microscopy,[145][146] is the protein responsible for allowing the virus to attach to and fuse with the membrane of a host cell;[144] specifically, its S1 subunit catalyzes attachment, the S2 subunit fusion.[147]\\nSARS-CoV-2 has a linear, positive-sense, single-stranded RNA genome about 30,000 bases long.[104] Its genome has a bias against cytosine (C) and guanine (G) nucleotides, like other coronaviruses.[148] The genome has the highest composition of U (32.2%), followed by A (29.9%), and a similar composition of G (19.6%) and C (18.3%).[149] The nucleotide bias arises from the mutation of guanines and cytosines to adenosines and uracils, respectively.[150] The mutation of CG dinucleotides is thought to arise to avoid the zinc finger antiviral protein related defense mechanism of cells,[151] and to lower the energy to unbind the genome during replication and translation (adenosine and uracil base pair via two hydrogen bonds, cytosine and guanine via three).[150] The depletion of CG dinucleotides in its genome has led the virus to have a noticeable codon usage bias. For instance, arginine\\'s six different codons have a relative synonymous codon usage of AGA (2.67), CGU (1.46), AGG (.81), CGC (.58), CGA (.29), and CGG (.19).[149] A similar codon usage bias trend is seen in other SARS–related coronaviruses.[152]\\nVirus infections start when viral particles bind to host surface cellular receptors.[153] Protein modeling experiments on the spike protein of the virus soon suggested that SARS‑CoV‑2 has sufficient affinity to the receptor angiotensin converting enzyme 2 (ACE2) on human cells to use them as a mechanism of cell entry.[154] By 22 January 2020, a group in China working with the full virus genome and a group in the United States using reverse genetics methods independently and experimentally demonstrated that ACE2 could act as the receptor for SARS‑CoV‑2.[17][155][156][157] Studies have shown that SARS‑CoV‑2 has a higher affinity to human ACE2 than the original SARS virus.[145][158] SARS‑CoV‑2 may also use basigin to assist in cell entry.[159]\\nInitial spike protein priming by transmembrane protease, serine 2 (TMPRSS2) is essential for entry of SARS‑CoV‑2.[24] The host protein neuropilin 1 (NRP1) may aid the virus in host cell entry using ACE2.[160] After a SARS‑CoV‑2 virion attaches to a target cell, the cell\\'s TMPRSS2 cuts open the spike protein of the virus, exposing a fusion peptide in the S2 subunit, and the host receptor ACE2.[147] After fusion, an endosome forms around the virion, separating it from the rest of the host cell. The virion escapes when the pH of the endosome drops or when cathepsin, a host cysteine protease, cleaves it.[147] The virion then releases RNA into the cell and forces the cell to produce and disseminate copies of the virus, which infect more cells.[161]\\nSARS‑CoV‑2 produces at least three virulence factors that promote shedding of new virions from host cells and inhibit immune response.[144] Whether they include downregulation of ACE2, as seen in similar coronaviruses, remains under investigation (as of May 2020).[162]\\nVery few drugs are known to effectively inhibit SARS‑CoV‑2. Masitinib is a clinically safe drug and was recently found to inhibit its main protease, 3CLpro and showed >200-fold reduction in viral titers in the lungs and nose in mice. However, it is not approved for the treatment of COVID-19 in humans as of August 2021.[163]\\nCOVID Moonshot is an international collaborative open-science project started in March 2020 with the goal of developing an un-patented oral antiviral drug for treatment of SARS-CoV-2.[164]\\nRetrospective tests collected within the Chinese surveillance system revealed no clear indication of substantial unrecognized circulation of SARS‑CoV‑2 in Wuhan during the latter part of 2019.[84]\\nA meta-analysis from November 2020 estimated the basic reproduction number (\\n\\n\\n\\n\\nR\\n\\n0\\n\\n\\n\\n\\n{\\\\displaystyle R_{0}}\\n\\n) of the virus to be between 2.39 and 3.44.[20] This means each infection from the virus is expected to result in 2.39 to 3.44 new infections when no members of the community are immune and no preventive measures are taken. The reproduction number may be higher in densely populated conditions such as those found on cruise ships.[165] Human behavior affects the R0 value and hence estimates of R0 differ between different countries, cultures, and social norms. For instance, one study found relatively low R0 (~3.5) in Sweden, Belgium and the Netherlands, while Spain and the US had significantly higher R0 values (5.9 to 6.4, respectively).[166]\\nThere have been about 96,000 confirmed cases of infection in mainland China.[170] While the proportion of infections that result in confirmed cases or progress to diagnosable disease remains unclear,[171] one mathematical model estimated that 75,815 people were infected on 25 January 2020 in Wuhan alone, at a time when the number of confirmed cases worldwide was only 2,015.[172] Before 24 February 2020, over 95% of all deaths from COVID-19 worldwide had occurred in Hubei province, where Wuhan is located.[173][174] As of 20 February 2022, the percentage had decreased to 0.055%.[170]\\nAs of 20 February 2022, there have been 423,459,186 total confirmed cases of SARS‑CoV‑2 infection in the ongoing pandemic.[170] The total number of deaths attributed to the virus is 5,883,361.[170]\\n'"
            ]
          },
          "metadata": {},
          "execution_count": 7
        }
      ]
    },
    {
      "cell_type": "markdown",
      "source": [
        "# LexRankSummarizer"
      ],
      "metadata": {
        "id": "yt-4sQzs7qNi"
      }
    },
    {
      "cell_type": "code",
      "source": [
        "from sumy.summarizers.lex_rank import LexRankSummarizer \n",
        "summarizer = LexRankSummarizer()\n",
        "#Summarize the document with 2 sentences\n"
      ],
      "metadata": {
        "id": "Nm_9TDi8K_g3"
      },
      "execution_count": null,
      "outputs": []
    },
    {
      "cell_type": "code",
      "source": [
        "import nltk\n",
        "nltk.download('punkt')"
      ],
      "metadata": {
        "colab": {
          "base_uri": "https://localhost:8080/"
        },
        "id": "5K0PlKqyMaFs",
        "outputId": "65570fe7-9ed9-4b78-83f4-ecaa10e7c772"
      },
      "execution_count": null,
      "outputs": [
        {
          "output_type": "stream",
          "name": "stdout",
          "text": [
            "[nltk_data] Downloading package punkt to /root/nltk_data...\n",
            "[nltk_data]   Unzipping tokenizers/punkt.zip.\n"
          ]
        },
        {
          "output_type": "execute_result",
          "data": {
            "text/plain": [
              "True"
            ]
          },
          "metadata": {},
          "execution_count": 12
        }
      ]
    },
    {
      "cell_type": "code",
      "source": [
        "import bs4 as bs\n",
        "import urllib.request\n",
        "import re\n",
        "\n",
        "\n",
        "scraped_data = urllib.request.urlopen('https://en.wikipedia.org/wiki/Severe_acute_respiratory_syndrome_coronavirus_2')\n",
        "article = scraped_data.read()\n",
        "\n",
        "parsed_article = bs.BeautifulSoup(article,'lxml')\n",
        "\n",
        "paragraphs = parsed_article.find_all('p')\n",
        "\n",
        "article_text = \"\"\n",
        "\n",
        "for p in paragraphs:\n",
        "    article_text += p.text"
      ],
      "metadata": {
        "id": "oSZbmPhoM1UM"
      },
      "execution_count": null,
      "outputs": []
    },
    {
      "cell_type": "code",
      "source": [
        "file = \"001.txt\"\n",
        "parser = PlaintextParser.from_string(article_text, Tokenizer(\"english\"))"
      ],
      "metadata": {
        "id": "OByqZwhwMRlJ"
      },
      "execution_count": null,
      "outputs": []
    },
    {
      "cell_type": "code",
      "source": [
        "parser.document"
      ],
      "metadata": {
        "colab": {
          "base_uri": "https://localhost:8080/"
        },
        "id": "T4-hdeXKMgsc",
        "outputId": "4329ccde-230e-4f71-c417-8f78d0b50c78"
      },
      "execution_count": null,
      "outputs": [
        {
          "output_type": "execute_result",
          "data": {
            "text/plain": [
              "<DOM with 7 paragraphs>"
            ]
          },
          "metadata": {},
          "execution_count": 19
        }
      ]
    },
    {
      "cell_type": "code",
      "source": [
        "summary = summarizer(parser.document, 7) \n"
      ],
      "metadata": {
        "id": "Q2YnOJ8GLNg_"
      },
      "execution_count": null,
      "outputs": []
    },
    {
      "cell_type": "code",
      "source": [
        "for sentence in summary:\n",
        " print(sentence)"
      ],
      "metadata": {
        "colab": {
          "base_uri": "https://localhost:8080/"
        },
        "id": "j3XzAqYDLedq",
        "outputId": "6dce3626-6932-483d-becc-eb9b190db1ef"
      },
      "execution_count": null,
      "outputs": [
        {
          "output_type": "stream",
          "name": "stdout",
          "text": [
            "The first known infections from SARS‑CoV‑2 were discovered in Wuhan, China.\n",
            "[17][93] This sequence was the closest known to SARS-CoV-2 at the time of its identification,[84] but it is not its direct ancestor.\n",
            "[108] The mechanism of recombination in unsegmented RNA viruses such as SARS-CoV-2 is generally by copy-choice replication, in which gene material switches from one RNA template molecule to another during replication.\n",
            "However, it is not approved for the treatment of COVID-19 in humans as of August 2021.\n",
            ") of the virus to be between 2.39 and 3.44.\n",
            "[170] While the proportion of infections that result in confirmed cases or progress to diagnosable disease remains unclear,[171] one mathematical model estimated that 75,815 people were infected on 25 January 2020 in Wuhan alone, at a time when the number of confirmed cases worldwide was only 2,015.\n",
            "[170] As of 20 February 2022, there have been 423,459,186 total confirmed cases of SARS‑CoV‑2 infection in the ongoing pandemic.\n"
          ]
        }
      ]
    },
    {
      "cell_type": "markdown",
      "source": [
        "# LuhnSummarizer"
      ],
      "metadata": {
        "id": "Xu9x081h7jDa"
      }
    },
    {
      "cell_type": "code",
      "source": [
        "from sumy.summarizers.luhn import LuhnSummarizer\n",
        "summarizer_1 = LuhnSummarizer()\n",
        "summary_1 =summarizer_1(parser.document,7)\n",
        "for sentence in summary_1:\n",
        " print(sentence)"
      ],
      "metadata": {
        "colab": {
          "base_uri": "https://localhost:8080/"
        },
        "id": "MTNV5g4TNBQO",
        "outputId": "b1505486-d0ae-452e-e6bd-8b7501f6d889"
      },
      "execution_count": null,
      "outputs": [
        {
          "output_type": "stream",
          "name": "stdout",
          "text": [
            "[74] Similarly, a study of ninety-four patients hospitalized in January and February 2020 estimated patients shed the most virus two to three days before symptoms appear and that \"a substantial proportion of transmission probably occurred before first symptoms in the index case\".\n",
            "[76] The first reported case of reinfection was a 33-year-old man from Hong Kong who first tested positive on 26 March 2020, was discharged on 15 April 2020 after two negative tests, and tested positive again on 15 August 2020 (142 days later), which was confirmed by whole-genome sequencing showing that the viral genomes between the episodes belong to different clades.\n",
            "[124] On 11 February 2020, the International Committee on Taxonomy of Viruses announced that according to existing rules that compute hierarchical relationships among coronaviruses based on five conserved sequences of nucleic acids, the differences between what was then called 2019-nCoV and the virus from the 2003 SARS outbreak were insufficient to make them separate viral species.\n",
            "[129][130] A phylogenetic tree based on whole-genome sequences of SARS-CoV-2 and related coronaviruses is:[131][132] (Bat) Rc-o319, 81% to SARS-CoV-2, Rhinolophus cornutus, Iwate, Japan[133] Bat SL-ZXC21, 88% to SARS-CoV-2, Rhinolophus pusillus, Zhoushan, Zhejiang[134] Bat SL-ZC45, 88% to SARS-CoV-2, Rhinolophus pusillus, Zhoushan, Zhejiang[134] Pangolin SARSr-CoV-GX, 89% to SARS-CoV-2, Manis javanica, smuggled from Southeast Asia[135] Pangolin SARSr-CoV-GD, 91% to SARS-CoV-2, Manis javanica, smuggled from Southeast Asia[136] Bat RshSTT182, 92.6% to SARS-CoV-2, Rhinolophus shameli, Steung Treng, Cambodia[137] Bat RshSTT200, 92.6% to SARS-CoV-2, Rhinolophus shameli, Steung Treng, Cambodia[137] (Bat) RacCS203, 91.5% to SARS-CoV-2, Rhinolophus acuminatus, Chachoengsao, Thailand[132] (Bat) RmYN02, 93.3% to SARS-CoV-2, Rhinolophus malayanus, Mengla, Yunnan[138] (Bat) RpYN06, 94.4% to SARS-CoV-2, Rhinolophus pusillus, Xishuangbanna, Yunnan[131] (Bat) RaTG13, 96.1% to SARS-CoV-2, Rhinolophus affinis, Mojiang, Yunnan SARS-CoV-2 SARS-CoV-1, 79% to SARS-CoV-2\n",
            "[143] Like other coronaviruses, SARS-CoV-2 has four structural proteins, known as the S (spike), E (envelope), M (membrane), and N (nucleocapsid) proteins; the N protein holds the RNA genome, and the S, E, and M proteins together create the viral envelope.\n",
            "[20] This means each infection from the virus is expected to result in 2.39 to 3.44 new infections when no members of the community are immune and no preventive measures are taken.\n",
            "[170] While the proportion of infections that result in confirmed cases or progress to diagnosable disease remains unclear,[171] one mathematical model estimated that 75,815 people were infected on 25 January 2020 in Wuhan alone, at a time when the number of confirmed cases worldwide was only 2,015.\n"
          ]
        }
      ]
    },
    {
      "cell_type": "code",
      "source": [
        "from sumy.summarizers.lsa import LsaSummarizer\n",
        "summarizer_2 = LsaSummarizer()\n",
        "summary_2 =summarizer_2(parser.document,7)\n",
        "for sentence in summary_2:\n",
        " print(sentence)"
      ],
      "metadata": {
        "colab": {
          "base_uri": "https://localhost:8080/"
        },
        "id": "ab6k2f4GNT_7",
        "outputId": "627a8638-4a93-46a1-fc62-c72835cdb4dc"
      },
      "execution_count": null,
      "outputs": [
        {
          "output_type": "stream",
          "name": "stdout",
          "text": [
            "[15][38][39][40] Transmission was initially assumed to occur primarily via respiratory droplets from coughs and sneezes within a range of about 1.8 metres (6 ft).\n",
            "[84] Coronaviruses in general have high genetic plasticity,[87] but SARS-CoV-2's viral evolution is slowed by the RNA proofreading capability of its replication machinery.\n",
            "[104] Human coronaviruses are capable of causing illnesses ranging from the common cold to more severe diseases such as Middle East respiratory syndrome (MERS, fatality rate ~34%).\n",
            "[119] Viral genetic sequence data can provide critical information about whether viruses separated by time and space are likely to be epidemiologically linked.\n",
            "For instance, arginine's six different codons have a relative synonymous codon usage of AGA (2.67), CGU (1.46), AGG (.81), CGC (.58), CGA (.29), and CGG (.19).\n",
            "[161] SARS‑CoV‑2 produces at least three virulence factors that promote shedding of new virions from host cells and inhibit immune response.\n",
            "[170] While the proportion of infections that result in confirmed cases or progress to diagnosable disease remains unclear,[171] one mathematical model estimated that 75,815 people were infected on 25 January 2020 in Wuhan alone, at a time when the number of confirmed cases worldwide was only 2,015.\n"
          ]
        }
      ]
    },
    {
      "cell_type": "markdown",
      "source": [
        "# TextRankSummarizer"
      ],
      "metadata": {
        "id": "-oeuD9xJ7v8c"
      }
    },
    {
      "cell_type": "code",
      "source": [
        "from sumy.summarizers.text_rank import TextRankSummarizer\n",
        "summarizer_3 = TextRankSummarizer()\n",
        "summary_3 =summarizer_3(parser.document,7)\n",
        "for sentence in summary_3:\n",
        " print(sentence)"
      ],
      "metadata": {
        "colab": {
          "base_uri": "https://localhost:8080/"
        },
        "id": "UDoinovTNeQ0",
        "outputId": "e2e6e1fa-5b8d-49aa-d20a-b2e52eb64e19"
      },
      "execution_count": null,
      "outputs": [
        {
          "output_type": "stream",
          "name": "stdout",
          "text": [
            "[59][60] The degree to which the virus is infectious during the incubation period is uncertain, but research has indicated that the pharynx reaches peak viral load approximately four days after infection[61][62] or in the first week of symptoms and declines thereafter.\n",
            "[64] A study by a team of researchers from the University of North Carolina found that the nasal cavity is seemingly the dominant initial site of infection, with subsequent aspiration-mediated virus-seeding into the lungs in SARS‑CoV‑2 pathogenesis.\n",
            "[72] However, an epidemiological model of the beginning of the outbreak in China suggested that \"pre-symptomatic shedding may be typical among documented infections\" and that subclinical infections may have been the source of a majority of infections.\n",
            "[124] On 11 February 2020, the International Committee on Taxonomy of Viruses announced that according to existing rules that compute hierarchical relationships among coronaviruses based on five conserved sequences of nucleic acids, the differences between what was then called 2019-nCoV and the virus from the 2003 SARS outbreak were insufficient to make them separate viral species.\n",
            "[104] In SARS-CoV-2, the spike protein, which has been imaged at the atomic level using cryogenic electron microscopy,[145][146] is the protein responsible for allowing the virus to attach to and fuse with the membrane of a host cell;[144] specifically, its S1 subunit catalyzes attachment, the S2 subunit fusion.\n",
            "[150] The mutation of CG dinucleotides is thought to arise to avoid the zinc finger antiviral protein related defense mechanism of cells,[151] and to lower the energy to unbind the genome during replication and translation (adenosine and uracil base pair via two hydrogen bonds, cytosine and guanine via three).\n",
            "[160] After a SARS‑CoV‑2 virion attaches to a target cell, the cell's TMPRSS2 cuts open the spike protein of the virus, exposing a fusion peptide in the S2 subunit, and the host receptor ACE2.\n"
          ]
        }
      ]
    },
    {
      "cell_type": "code",
      "source": [
        ""
      ],
      "metadata": {
        "id": "kM7AVWS3NkoI"
      },
      "execution_count": null,
      "outputs": []
    }
  ]
}