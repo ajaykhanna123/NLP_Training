{
  "nbformat": 4,
  "nbformat_minor": 0,
  "metadata": {
    "colab": {
      "name": "TextSummarization.ipynb",
      "provenance": [],
      "collapsed_sections": []
    },
    "kernelspec": {
      "name": "python3",
      "display_name": "Python 3"
    },
    "language_info": {
      "name": "python"
    }
  },
  "cells": [
    {
      "cell_type": "code",
      "source": [
        ""
      ],
      "metadata": {
        "id": "erCUy0uQlpSg"
      },
      "execution_count": null,
      "outputs": []
    },
    {
      "cell_type": "code",
      "source": [
        ""
      ],
      "metadata": {
        "id": "cxfukrsVlpJI"
      },
      "execution_count": null,
      "outputs": []
    },
    {
      "cell_type": "code",
      "source": [
        ""
      ],
      "metadata": {
        "id": "SL0K4L4Ilo_g"
      },
      "execution_count": null,
      "outputs": []
    },
    {
      "cell_type": "code",
      "source": [
        ""
      ],
      "metadata": {
        "id": "MziGw5GTlotC"
      },
      "execution_count": null,
      "outputs": []
    },
    {
      "cell_type": "markdown",
      "source": [
        "# Text Summarization\n",
        "\n",
        "It is a process of generating a concise and meaningful summary of text from multiple text resources such as books, news articles, blog posts, research papers, emails, and tweets.\n"
      ],
      "metadata": {
        "id": "LnUSF9lyx3g6"
      }
    },
    {
      "cell_type": "markdown",
      "source": [
        "Text summarization can broadly be divided into two categories — \n",
        "Extractive Summarization and Abstractive Summarization.\n",
        "\n",
        "#Extractive Summarization: \n",
        "These methods rely on extracting several parts, such as phrases and sentences, from a piece of text and stack them together to create a summary. Therefore, identifying the right sentences for summarization is of utmost importance in an extractive method.\n",
        "\n"
      ],
      "metadata": {
        "id": "aFMGvdBR0hc7"
      }
    },
    {
      "cell_type": "markdown",
      "source": [
        "![](https://static.wikia.nocookie.net/three-students-hindi/images/a/ae/CHATUR_RAMALINGAM.jpg/revision/latest/scale-to-width-down/520?cb=20201126020319)"
      ],
      "metadata": {
        "id": "EyWS9OAwf3On"
      }
    },
    {
      "cell_type": "markdown",
      "source": [
        "# Abstractive Summarization: \n",
        "These methods use advanced NLP techniques to generate an entirely new summary. Some parts of this summary may not even appear in the original text."
      ],
      "metadata": {
        "id": "8oswyNnIg-GI"
      }
    },
    {
      "cell_type": "markdown",
      "source": [
        "![](https://64.media.tumblr.com/7fec32297644a2354a204cc12a7065e9/2ff858b9249a87db-2a/s500x750/9adff17ab2e3db78ea0144e5563b47727ce6355e.jpg)"
      ],
      "metadata": {
        "id": "xzH59SQZgZVc"
      }
    },
    {
      "cell_type": "markdown",
      "source": [
        "# TextRank Algorithm\n",
        "\n"
      ],
      "metadata": {
        "id": "t7wA8CSA1Ab2"
      }
    },
    {
      "cell_type": "markdown",
      "source": [
        "# PageRank algorithm. \n",
        "In fact, this actually inspired TextRank! PageRank is used primarily for ranking web pages in online search results. Let’s quickly understand the basics of this algorithm with the help of an example.\n",
        "![](https://cdn.analyticsvidhya.com/wp-content/uploads/2018/10/Pagerank11.png)"
      ],
      "metadata": {
        "id": "zCrS8lGN5MDi"
      }
    },
    {
      "cell_type": "markdown",
      "source": [
        "Suppose we have 4 web pages — w1, w2, w3, and w4. These pages contain links pointing to one another. Some pages might have no link – these are called dangling pages.\n",
        "![](https://cdn.analyticsvidhya.com/wp-content/uploads/2018/10/webpages.png)"
      ],
      "metadata": {
        "id": "e-pv30Mr5sSe"
      }
    },
    {
      "cell_type": "markdown",
      "source": [
        "Web page w1 has links directing to w2 and w4\n",
        "w2 has links for w3 and w1\n",
        "w4 has links only for the web page w1\n",
        "w3 has no links and hence it will be called a dangling page\n",
        "In order to rank these pages, we would have to compute a score called the PageRank score. This score is the probability of a user visiting that page.\n",
        "\n",
        "To capture the probabilities of users navigating from one page to another, we will create a square matrix M, having n rows and n columns, where n is the number of web pages.\n",
        "\n",
        "![](https://cdn.analyticsvidhya.com/wp-content/uploads/2018/10/m_matrix.png)"
      ],
      "metadata": {
        "id": "0rNJN-w259t6"
      }
    },
    {
      "cell_type": "markdown",
      "source": [
        "Each element of this matrix denotes the probability of a user transitioning from one web page to another. For example, the highlighted cell below contains the probability of transition from w1 to w2.\n",
        "\n",
        "![](https://cdn.analyticsvidhya.com/wp-content/uploads/2018/10/transition_probability.png)"
      ],
      "metadata": {
        "id": "woZhkcv16Ib-"
      }
    },
    {
      "cell_type": "markdown",
      "source": [
        "#The initialization of the probabilities is explained in the steps below: \n",
        "\n",
        "1. Probability of going from page i to j, i.e., M[ i ][ j ], is initialized with  1/(number of unique links in web page wi)\n",
        "If there is no link between the page i and j, then the probability will be initialized with 0\n",
        "2. If a user has landed on a dangling page, then it is assumed that he is equally likely to transition to any page. Hence, M[ i ][ j ] will be initialized with 1/(number of web pages)\n",
        "Hence, in our case, the matrix M will be initialized as follows:\n",
        "\n",
        "![](https://cdn.analyticsvidhya.com/wp-content/uploads/2018/10/final_matrix.png)"
      ],
      "metadata": {
        "id": "GJsjhLjP6UMG"
      }
    },
    {
      "cell_type": "markdown",
      "source": [
        "![](https://cdn.analyticsvidhya.com/wp-content/uploads/2018/10/block_3.png)"
      ],
      "metadata": {
        "id": "FrIl7C4B6sGZ"
      }
    },
    {
      "cell_type": "markdown",
      "source": [
        "# Luhns Heuristic Method\n",
        "The idea is that any sentence with maximum occurances of the highest frequency words(Stopwords) and least occurances are not important to the meaning of document than others.\n",
        " It selects only the words of higher importance as per their frequency. Higher weights are assigned to the words present at the begining of the document. "
      ],
      "metadata": {
        "id": "ZU8gGWblAicR"
      }
    },
    {
      "cell_type": "markdown",
      "source": [
        "\n",
        "# The Luhns method is most significant when:\n",
        "\n",
        "\n",
        "*  Too high frequent words are also not significant (e.g. “is”, “and”)\n",
        "\n",
        "*  Removing low frequent words is easy\n",
        "\n",
        "* Set a minimum frequency-threshold\n",
        "\n",
        "\n",
        "* Too low frequent words are not significant\n",
        "\n",
        "* Removing common (high frequent) words:\n",
        "* Setting a maximum frequency threshold (statistically obtained)\n",
        "* Comparing to a common-word list\n",
        "* Used for summarizing technical documents."
      ],
      "metadata": {
        "id": "vHE4h9R5Jd7-"
      }
    },
    {
      "cell_type": "markdown",
      "source": [
        "# LexRank Summarizer\n",
        "\n",
        "LexRank is an unsupervised approach to text summarization based on graph-based centrality scoring of sentences. The main idea is that sentences \"recommend\" other similar sentences to the reader. Thus, if one sentence is very similar to many others, it will likely be a sentence of great importance. The importance of this sentence also stems from the importance of the sentences \"recommending\" it. Thus, to get ranked highly and placed in a summary, a sentence must be similar to many sentences that are in turn also similar to many other sentences. This makes intuitive sense and allows the algorithms to be applied to any arbitrary new text."
      ],
      "metadata": {
        "id": "5OMf54GAKTvo"
      }
    },
    {
      "cell_type": "code",
      "source": [
        ""
      ],
      "metadata": {
        "id": "LQLTzRb6K9QQ"
      },
      "execution_count": null,
      "outputs": []
    }
  ]
}